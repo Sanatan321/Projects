{
  "nbformat": 4,
  "nbformat_minor": 0,
  "metadata": {
    "colab": {
      "name": "housing_using Keras_HyperParameter.ipynb",
      "provenance": []
    },
    "kernelspec": {
      "name": "python3",
      "display_name": "Python 3"
    },
    "accelerator": "GPU"
  },
  "cells": [
    {
      "cell_type": "code",
      "metadata": {
        "id": "E4AW67fIsqk-",
        "colab_type": "code",
        "colab": {}
      },
      "source": [
        "import numpy as np\n",
        "import pandas as pd\n",
        "import matplotlib.pyplot as plt"
      ],
      "execution_count": 0,
      "outputs": []
    },
    {
      "cell_type": "code",
      "metadata": {
        "id": "NnBVArRtoI-9",
        "colab_type": "code",
        "colab": {
          "base_uri": "https://localhost:8080/",
          "height": 105
        },
        "outputId": "fb92a4ab-c52d-4971-8a95-8d6006a26cac"
      },
      "source": [
        "!pip install scikit-learn==0.21.2"
      ],
      "execution_count": 2,
      "outputs": [
        {
          "output_type": "stream",
          "text": [
            "Requirement already satisfied: scikit-learn==0.21.2 in /usr/local/lib/python3.6/dist-packages (0.21.2)\n",
            "Requirement already satisfied: scipy>=0.17.0 in /usr/local/lib/python3.6/dist-packages (from scikit-learn==0.21.2) (1.4.1)\n",
            "Requirement already satisfied: numpy>=1.11.0 in /usr/local/lib/python3.6/dist-packages (from scikit-learn==0.21.2) (1.18.4)\n",
            "Requirement already satisfied: joblib>=0.11 in /usr/local/lib/python3.6/dist-packages (from scikit-learn==0.21.2) (0.14.1)\n"
          ],
          "name": "stdout"
        }
      ]
    },
    {
      "cell_type": "code",
      "metadata": {
        "id": "FVs5KLV8tmsc",
        "colab_type": "code",
        "colab": {}
      },
      "source": [
        "pd.pandas.set_option('display.max_columns',None)"
      ],
      "execution_count": 0,
      "outputs": []
    },
    {
      "cell_type": "code",
      "metadata": {
        "id": "_Xe2dBFDtrN1",
        "colab_type": "code",
        "colab": {}
      },
      "source": [
        "dataset=pd.read_csv('/content/drive/My Drive/house-prices-advanced-regression-techniques/x_train.csv')\n",
        "data_test=pd.read_csv('/content/drive/My Drive/house-prices-advanced-regression-techniques/x_test.csv')"
      ],
      "execution_count": 0,
      "outputs": []
    },
    {
      "cell_type": "code",
      "metadata": {
        "id": "G-n28Rb9ug27",
        "colab_type": "code",
        "colab": {}
      },
      "source": [
        "y_train=dataset[['SalePrice']]\n",
        "y_test=data_test[['SalePrice']]"
      ],
      "execution_count": 0,
      "outputs": []
    },
    {
      "cell_type": "code",
      "metadata": {
        "id": "bAddgGSJukw-",
        "colab_type": "code",
        "colab": {}
      },
      "source": [
        "x_train=dataset.drop(['Id','SalePrice'],axis=1)\n",
        "x_test=data_test.drop(['Id','SalePrice'],axis=1)"
      ],
      "execution_count": 0,
      "outputs": []
    },
    {
      "cell_type": "code",
      "metadata": {
        "id": "um6rlcMCu7dG",
        "colab_type": "code",
        "outputId": "6ee5a81e-5b98-41a9-ac68-9246ad4e293a",
        "colab": {
          "base_uri": "https://localhost:8080/",
          "height": 34
        }
      },
      "source": [
        "import keras\n",
        "from keras.models import Sequential\n",
        "from keras.layers import Dense,Activation,Embedding,LeakyReLU,BatchNormalization,Flatten,Dropout\n",
        "from keras.activations import sigmoid,relu"
      ],
      "execution_count": 7,
      "outputs": [
        {
          "output_type": "stream",
          "text": [
            "Using TensorFlow backend.\n"
          ],
          "name": "stderr"
        }
      ]
    },
    {
      "cell_type": "code",
      "metadata": {
        "id": "Hc2v8439axvB",
        "colab_type": "code",
        "colab": {}
      },
      "source": [
        "from keras.wrappers.scikit_learn import KerasClassifier\n",
        "from sklearn.model_selection import GridSearchCV"
      ],
      "execution_count": 0,
      "outputs": []
    },
    {
      "cell_type": "code",
      "metadata": {
        "id": "FyKOXkeHbfg3",
        "colab_type": "code",
        "colab": {}
      },
      "source": [
        "def creating_model(layers,activation):\n",
        "    model=Sequential()\n",
        "    for i,nodes in enumerate(layers):\n",
        "        if i==0:\n",
        "            model.add(Dense(nodes,input_dim=x_train.shape[1]))\n",
        "            model.add(Activation(activation))\n",
        "            model.add(Dropout(0.3))\n",
        "        else:\n",
        "            model.add(Dense(nodes))\n",
        "            model.add(Activation(activation))\n",
        "            model.add(Dropout(0.3))\n",
        "    model.add(Dense(units=1,kernel_initializer='he_uniform'))\n",
        "    model.compile(optimizer='adam',loss='mean_squared_error',metrics=['accuracy'])\n",
        "    return model"
      ],
      "execution_count": 0,
      "outputs": []
    },
    {
      "cell_type": "code",
      "metadata": {
        "id": "ORoYHVFhbh7x",
        "colab_type": "code",
        "colab": {}
      },
      "source": [
        "model=KerasClassifier(build_fn=creating_model,verbose=0)"
      ],
      "execution_count": 0,
      "outputs": []
    },
    {
      "cell_type": "code",
      "metadata": {
        "id": "SRiRbIFobqUq",
        "colab_type": "code",
        "colab": {}
      },
      "source": [
        "layers=[[50,25,50],[200,100,50],[50,100,50]]\n",
        "activations=['sigmoid','relu']\n",
        "param_grid=dict(layers=layers,activation=activations,batch_size=[128,256],epochs=[500])"
      ],
      "execution_count": 0,
      "outputs": []
    },
    {
      "cell_type": "code",
      "metadata": {
        "id": "JuCgyq83b04x",
        "colab_type": "code",
        "colab": {}
      },
      "source": [
        "grid=GridSearchCV(estimator=model, param_grid=param_grid, cv=5)"
      ],
      "execution_count": 0,
      "outputs": []
    },
    {
      "cell_type": "code",
      "metadata": {
        "id": "c8nBj_Gbb4Cl",
        "colab_type": "code",
        "colab": {}
      },
      "source": [
        "grid_result=grid.fit(x_train,y_train)"
      ],
      "execution_count": 0,
      "outputs": []
    },
    {
      "cell_type": "code",
      "metadata": {
        "id": "119k1Jo1b7Os",
        "colab_type": "code",
        "colab": {
          "base_uri": "https://localhost:8080/",
          "height": 34
        },
        "outputId": "a007716d-b6fe-4103-b7e5-c9ece53aa87a"
      },
      "source": [
        "print(grid_result.best_score_,grid_result.best_params_)\n",
        "pred_y=grid.predict(x_test)"
      ],
      "execution_count": 15,
      "outputs": [
        {
          "output_type": "stream",
          "text": [
            "0.015068493038415908 {'activation': 'relu', 'batch_size': 128, 'epochs': 500, 'layers': [50, 25, 50]}\n"
          ],
          "name": "stdout"
        }
      ]
    },
    {
      "cell_type": "code",
      "metadata": {
        "id": "1zI-I7GOwEJW",
        "colab_type": "code",
        "colab": {}
      },
      "source": [
        "y_pred=pd.DataFrame(pred_y)"
      ],
      "execution_count": 0,
      "outputs": []
    },
    {
      "cell_type": "code",
      "metadata": {
        "id": "9teKjYR9tJZV",
        "colab_type": "code",
        "colab": {}
      },
      "source": [
        "sample= pd.read_csv(\"/content/drive/My Drive/house-prices-advanced-regression-techniques/sample_submission.csv\")\n",
        "sample_df = pd.concat([sample['Id'],y_pred],axis=1)\n",
        "sample_df .columns=['Id','SalePrice']"
      ],
      "execution_count": 0,
      "outputs": []
    },
    {
      "cell_type": "code",
      "metadata": {
        "id": "7HGIuPDOtX7P",
        "colab_type": "code",
        "colab": {}
      },
      "source": [
        "sample_df .to_csv('house-prices-advanced-regression-techniques\\submit.csv',index=False)"
      ],
      "execution_count": 0,
      "outputs": []
    },
    {
      "cell_type": "code",
      "metadata": {
        "id": "_1bvwluPuen0",
        "colab_type": "code",
        "colab": {}
      },
      "source": [
        ""
      ],
      "execution_count": 0,
      "outputs": []
    }
  ]
}