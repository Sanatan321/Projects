{
 "cells": [
  {
   "cell_type": "code",
   "execution_count": 1,
   "metadata": {},
   "outputs": [],
   "source": [
    "import numpy as np\n",
    "import pandas as pd\n",
    "import matplotlib.pyplot as plt"
   ]
  },
  {
   "cell_type": "code",
   "execution_count": 2,
   "metadata": {},
   "outputs": [],
   "source": [
    "from sklearn.linear_model import Lasso\n",
    "from sklearn.feature_selection import SelectFromModel\n",
    "pd.pandas.set_option('display.max_columns',None)"
   ]
  },
  {
   "cell_type": "code",
   "execution_count": 39,
   "metadata": {},
   "outputs": [],
   "source": [
    "dataset=pd.read_csv('house-prices-advanced-regression-techniques\\\\X_train.csv')\n",
    "data_test=pd.read_csv('house-prices-advanced-regression-techniques\\\\X_test.csv')"
   ]
  },
  {
   "cell_type": "code",
   "execution_count": 40,
   "metadata": {},
   "outputs": [],
   "source": [
    "y_train=dataset[['SalePrice']]\n",
    "y_test=data_test[['SalePrice']]"
   ]
  },
  {
   "cell_type": "code",
   "execution_count": 41,
   "metadata": {},
   "outputs": [],
   "source": [
    "x_train=dataset.drop(['Id','SalePrice'],axis=1)\n",
    "x_test=data_test.drop(['Id','SalePrice'],axis=1)"
   ]
  },
  {
   "cell_type": "code",
   "execution_count": 42,
   "metadata": {},
   "outputs": [
    {
     "data": {
      "text/plain": [
       "SelectFromModel(estimator=Lasso(alpha=0.005, copy_X=True, fit_intercept=True,\n",
       "                                max_iter=1000, normalize=False, positive=False,\n",
       "                                precompute=False, random_state=0,\n",
       "                                selection='cyclic', tol=0.0001,\n",
       "                                warm_start=False),\n",
       "                max_features=None, norm_order=1, prefit=False, threshold=None)"
      ]
     },
     "execution_count": 42,
     "metadata": {},
     "output_type": "execute_result"
    }
   ],
   "source": [
    "featr_selct_model=SelectFromModel(Lasso(alpha=0.005,random_state=0))\n",
    "featr_selct_model.fit(x_train,y_train)"
   ]
  },
  {
   "cell_type": "code",
   "execution_count": 43,
   "metadata": {},
   "outputs": [
    {
     "data": {
      "text/plain": [
       "array([ True, False, False,  True, False, False,  True, False, False,\n",
       "       False, False, False,  True, False, False,  True, False, False,\n",
       "       False, False, False, False, False,  True, False,  True,  True,\n",
       "       False, False, False, False, False, False, False, False, False,\n",
       "       False, False,  True,  True, False, False, False, False,  True,\n",
       "       False, False, False, False, False, False, False, False, False,\n",
       "       False, False, False, False, False, False,  True, False, False,\n",
       "       False, False, False, False, False,  True, False, False, False,\n",
       "       False, False, False, False, False, False,  True, False, False,\n",
       "       False, False, False, False, False, False, False, False, False,\n",
       "       False, False, False,  True, False, False, False, False, False,\n",
       "       False, False, False, False, False, False, False, False, False,\n",
       "       False, False, False, False, False, False, False,  True, False,\n",
       "       False, False, False, False,  True, False, False, False, False,\n",
       "        True, False, False, False, False,  True, False, False, False,\n",
       "        True, False,  True, False,  True, False, False,  True, False,\n",
       "       False, False, False, False, False, False, False, False, False,\n",
       "       False,  True,  True, False, False, False, False, False, False,\n",
       "        True, False, False, False, False, False, False, False, False,\n",
       "       False, False,  True, False, False, False, False, False,  True,\n",
       "       False,  True, False, False, False, False, False])"
      ]
     },
     "execution_count": 43,
     "metadata": {},
     "output_type": "execute_result"
    }
   ],
   "source": [
    "featr_selct_model.get_support()"
   ]
  },
  {
   "cell_type": "code",
   "execution_count": 44,
   "metadata": {},
   "outputs": [
    {
     "name": "stdout",
     "output_type": "stream",
     "text": [
      "29\n"
     ]
    }
   ],
   "source": [
    "selected_featr=x_train.columns[(featr_selct_model.get_support())]\n",
    "print(len(selected_featr))"
   ]
  },
  {
   "cell_type": "code",
   "execution_count": 45,
   "metadata": {},
   "outputs": [
    {
     "data": {
      "text/plain": [
       "Index(['MSSubClass', 'OverallQual', 'YearRemodAdd', '1stFlrSF', 'GrLivArea',\n",
       "       'Fireplaces', 'GarageCars', 'GarageArea', 'MSZoning_RL', 'MSZoning_RM',\n",
       "       'LotShape_Reg', 'Neighborhood_Edwards', 'Neighborhood_NridgHt',\n",
       "       'Condition1_Norm', 'RoofStyle_Hip', 'MasVnrType_None', 'ExterQual_TA',\n",
       "       'Foundation_PConc', 'BsmtQual_TA', 'BsmtExposure_Gd', 'BsmtExposure_No',\n",
       "       'BsmtFinType1_GLQ', 'BsmtFinType1_Unf', 'HeatingQC_TA', 'CentralAir_Y',\n",
       "       'KitchenQual_TA', 'GarageFinish_Unf', 'PavedDrive_Y', 'SaleType_New'],\n",
       "      dtype='object')"
      ]
     },
     "execution_count": 45,
     "metadata": {},
     "output_type": "execute_result"
    }
   ],
   "source": [
    "selected_featr"
   ]
  },
  {
   "cell_type": "code",
   "execution_count": 46,
   "metadata": {},
   "outputs": [],
   "source": [
    "x_train=x_train[selected_featr]"
   ]
  },
  {
   "cell_type": "code",
   "execution_count": 47,
   "metadata": {},
   "outputs": [],
   "source": [
    "x_test=x_test[selected_featr]"
   ]
  },
  {
   "cell_type": "code",
   "execution_count": 48,
   "metadata": {},
   "outputs": [],
   "source": [
    "from sklearn.model_selection import RandomizedSearchCV\n",
    "import xgboost"
   ]
  },
  {
   "cell_type": "code",
   "execution_count": 49,
   "metadata": {},
   "outputs": [],
   "source": [
    "regressor=xgboost.XGBRegressor()"
   ]
  },
  {
   "cell_type": "code",
   "execution_count": 50,
   "metadata": {},
   "outputs": [],
   "source": [
    "parameter={\n",
    "    \"learning_rate\"    : [0.05,0.10,0.15,0.20,0.25,0.30,0.35],\n",
    "    \"min_child_weight\" : [1,3,5,7,9],\n",
    "    \"max_depth\"        : [3,4,5,8,11,15],\n",
    "    \"n_estimators\"     : [100,200,300,500,900,1100,1300],\n",
    "    \"booster\"          : ['gbtree','gblinear']\n",
    "}"
   ]
  },
  {
   "cell_type": "code",
   "execution_count": 51,
   "metadata": {},
   "outputs": [],
   "source": [
    "random_search=RandomizedSearchCV(regressor,param_distributions=parameter,\n",
    "                                 n_iter=50,cv=6,verbose=5,random_state=42,\n",
    "                                 scoring='neg_mean_absolute_error',return_train_score=True)"
   ]
  },
  {
   "cell_type": "code",
   "execution_count": 52,
   "metadata": {},
   "outputs": [
    {
     "name": "stdout",
     "output_type": "stream",
     "text": [
      "Fitting 6 folds for each of 50 candidates, totalling 300 fits\n",
      "[CV] n_estimators=500, min_child_weight=1, max_depth=3, learning_rate=0.25, booster=gblinear \n"
     ]
    },
    {
     "name": "stderr",
     "output_type": "stream",
     "text": [
      "[Parallel(n_jobs=1)]: Using backend SequentialBackend with 1 concurrent workers.\n"
     ]
    },
    {
     "name": "stdout",
     "output_type": "stream",
     "text": [
      "[CV]  n_estimators=500, min_child_weight=1, max_depth=3, learning_rate=0.25, booster=gblinear, score=(train=-0.223, test=-0.233), total=   1.1s\n",
      "[CV] n_estimators=500, min_child_weight=1, max_depth=3, learning_rate=0.25, booster=gblinear \n"
     ]
    },
    {
     "name": "stderr",
     "output_type": "stream",
     "text": [
      "[Parallel(n_jobs=1)]: Done   1 out of   1 | elapsed:    1.1s remaining:    0.0s\n"
     ]
    },
    {
     "name": "stdout",
     "output_type": "stream",
     "text": [
      "[CV]  n_estimators=500, min_child_weight=1, max_depth=3, learning_rate=0.25, booster=gblinear, score=(train=-0.220, test=-0.243), total=   0.6s\n",
      "[CV] n_estimators=500, min_child_weight=1, max_depth=3, learning_rate=0.25, booster=gblinear \n"
     ]
    },
    {
     "name": "stderr",
     "output_type": "stream",
     "text": [
      "[Parallel(n_jobs=1)]: Done   2 out of   2 | elapsed:    1.7s remaining:    0.0s\n"
     ]
    },
    {
     "name": "stdout",
     "output_type": "stream",
     "text": [
      "[CV]  n_estimators=500, min_child_weight=1, max_depth=3, learning_rate=0.25, booster=gblinear, score=(train=-0.226, test=-0.268), total=   0.6s\n",
      "[CV] n_estimators=500, min_child_weight=1, max_depth=3, learning_rate=0.25, booster=gblinear \n"
     ]
    },
    {
     "name": "stderr",
     "output_type": "stream",
     "text": [
      "[Parallel(n_jobs=1)]: Done   3 out of   3 | elapsed:    2.3s remaining:    0.0s\n"
     ]
    },
    {
     "name": "stdout",
     "output_type": "stream",
     "text": [
      "[CV]  n_estimators=500, min_child_weight=1, max_depth=3, learning_rate=0.25, booster=gblinear, score=(train=-0.215, test=-0.194), total=   0.6s\n",
      "[CV] n_estimators=500, min_child_weight=1, max_depth=3, learning_rate=0.25, booster=gblinear \n"
     ]
    },
    {
     "name": "stderr",
     "output_type": "stream",
     "text": [
      "[Parallel(n_jobs=1)]: Done   4 out of   4 | elapsed:    2.9s remaining:    0.0s\n"
     ]
    },
    {
     "name": "stdout",
     "output_type": "stream",
     "text": [
      "[CV]  n_estimators=500, min_child_weight=1, max_depth=3, learning_rate=0.25, booster=gblinear, score=(train=-0.221, test=-0.205), total=   0.6s\n",
      "[CV] n_estimators=500, min_child_weight=1, max_depth=3, learning_rate=0.25, booster=gblinear \n",
      "[CV]  n_estimators=500, min_child_weight=1, max_depth=3, learning_rate=0.25, booster=gblinear, score=(train=-0.220, test=-0.227), total=   0.7s\n",
      "[CV] n_estimators=1300, min_child_weight=5, max_depth=3, learning_rate=0.2, booster=gbtree \n",
      "[CV]  n_estimators=1300, min_child_weight=5, max_depth=3, learning_rate=0.2, booster=gbtree, score=(train=-0.013, test=-0.107), total=   2.8s\n",
      "[CV] n_estimators=1300, min_child_weight=5, max_depth=3, learning_rate=0.2, booster=gbtree \n",
      "[CV]  n_estimators=1300, min_child_weight=5, max_depth=3, learning_rate=0.2, booster=gbtree, score=(train=-0.013, test=-0.110), total=   2.7s\n",
      "[CV] n_estimators=1300, min_child_weight=5, max_depth=3, learning_rate=0.2, booster=gbtree \n",
      "[CV]  n_estimators=1300, min_child_weight=5, max_depth=3, learning_rate=0.2, booster=gbtree, score=(train=-0.013, test=-0.113), total=   2.8s\n",
      "[CV] n_estimators=1300, min_child_weight=5, max_depth=3, learning_rate=0.2, booster=gbtree \n",
      "[CV]  n_estimators=1300, min_child_weight=5, max_depth=3, learning_rate=0.2, booster=gbtree, score=(train=-0.013, test=-0.110), total=   2.7s\n",
      "[CV] n_estimators=1300, min_child_weight=5, max_depth=3, learning_rate=0.2, booster=gbtree \n",
      "[CV]  n_estimators=1300, min_child_weight=5, max_depth=3, learning_rate=0.2, booster=gbtree, score=(train=-0.013, test=-0.109), total=   2.9s\n",
      "[CV] n_estimators=1300, min_child_weight=5, max_depth=3, learning_rate=0.2, booster=gbtree \n",
      "[CV]  n_estimators=1300, min_child_weight=5, max_depth=3, learning_rate=0.2, booster=gbtree, score=(train=-0.014, test=-0.112), total=   2.8s\n",
      "[CV] n_estimators=1100, min_child_weight=1, max_depth=4, learning_rate=0.25, booster=gblinear \n",
      "[CV]  n_estimators=1100, min_child_weight=1, max_depth=4, learning_rate=0.25, booster=gblinear, score=(train=-0.121, test=-0.124), total=   1.3s\n",
      "[CV] n_estimators=1100, min_child_weight=1, max_depth=4, learning_rate=0.25, booster=gblinear \n",
      "[CV]  n_estimators=1100, min_child_weight=1, max_depth=4, learning_rate=0.25, booster=gblinear, score=(train=-0.120, test=-0.130), total=   1.3s\n",
      "[CV] n_estimators=1100, min_child_weight=1, max_depth=4, learning_rate=0.25, booster=gblinear \n",
      "[CV]  n_estimators=1100, min_child_weight=1, max_depth=4, learning_rate=0.25, booster=gblinear, score=(train=-0.123, test=-0.137), total=   1.3s\n",
      "[CV] n_estimators=1100, min_child_weight=1, max_depth=4, learning_rate=0.25, booster=gblinear \n",
      "[CV]  n_estimators=1100, min_child_weight=1, max_depth=4, learning_rate=0.25, booster=gblinear, score=(train=-0.117, test=-0.111), total=   1.3s\n",
      "[CV] n_estimators=1100, min_child_weight=1, max_depth=4, learning_rate=0.25, booster=gblinear \n",
      "[CV]  n_estimators=1100, min_child_weight=1, max_depth=4, learning_rate=0.25, booster=gblinear, score=(train=-0.120, test=-0.118), total=   1.3s\n",
      "[CV] n_estimators=1100, min_child_weight=1, max_depth=4, learning_rate=0.25, booster=gblinear \n",
      "[CV]  n_estimators=1100, min_child_weight=1, max_depth=4, learning_rate=0.25, booster=gblinear, score=(train=-0.118, test=-0.126), total=   1.4s\n",
      "[CV] n_estimators=300, min_child_weight=1, max_depth=15, learning_rate=0.05, booster=gbtree \n",
      "[CV]  n_estimators=300, min_child_weight=1, max_depth=15, learning_rate=0.05, booster=gbtree, score=(train=-0.001, test=-0.098), total=   2.6s\n",
      "[CV] n_estimators=300, min_child_weight=1, max_depth=15, learning_rate=0.05, booster=gbtree \n",
      "[CV]  n_estimators=300, min_child_weight=1, max_depth=15, learning_rate=0.05, booster=gbtree, score=(train=-0.001, test=-0.107), total=   2.3s\n",
      "[CV] n_estimators=300, min_child_weight=1, max_depth=15, learning_rate=0.05, booster=gbtree \n",
      "[CV]  n_estimators=300, min_child_weight=1, max_depth=15, learning_rate=0.05, booster=gbtree, score=(train=-0.001, test=-0.109), total=   2.3s\n",
      "[CV] n_estimators=300, min_child_weight=1, max_depth=15, learning_rate=0.05, booster=gbtree \n",
      "[CV]  n_estimators=300, min_child_weight=1, max_depth=15, learning_rate=0.05, booster=gbtree, score=(train=-0.001, test=-0.096), total=   2.3s\n",
      "[CV] n_estimators=300, min_child_weight=1, max_depth=15, learning_rate=0.05, booster=gbtree \n",
      "[CV]  n_estimators=300, min_child_weight=1, max_depth=15, learning_rate=0.05, booster=gbtree, score=(train=-0.001, test=-0.092), total=   2.3s\n",
      "[CV] n_estimators=300, min_child_weight=1, max_depth=15, learning_rate=0.05, booster=gbtree \n",
      "[CV]  n_estimators=300, min_child_weight=1, max_depth=15, learning_rate=0.05, booster=gbtree, score=(train=-0.001, test=-0.108), total=   2.4s\n",
      "[CV] n_estimators=500, min_child_weight=7, max_depth=15, learning_rate=0.15, booster=gblinear \n",
      "[CV]  n_estimators=500, min_child_weight=7, max_depth=15, learning_rate=0.15, booster=gblinear, score=(train=-0.332, test=-0.349), total=   0.6s\n",
      "[CV] n_estimators=500, min_child_weight=7, max_depth=15, learning_rate=0.15, booster=gblinear \n",
      "[CV]  n_estimators=500, min_child_weight=7, max_depth=15, learning_rate=0.15, booster=gblinear, score=(train=-0.330, test=-0.360), total=   0.6s\n",
      "[CV] n_estimators=500, min_child_weight=7, max_depth=15, learning_rate=0.15, booster=gblinear \n",
      "[CV]  n_estimators=500, min_child_weight=7, max_depth=15, learning_rate=0.15, booster=gblinear, score=(train=-0.331, test=-0.394), total=   0.6s\n",
      "[CV] n_estimators=500, min_child_weight=7, max_depth=15, learning_rate=0.15, booster=gblinear \n",
      "[CV]  n_estimators=500, min_child_weight=7, max_depth=15, learning_rate=0.15, booster=gblinear, score=(train=-0.330, test=-0.297), total=   0.6s\n",
      "[CV] n_estimators=500, min_child_weight=7, max_depth=15, learning_rate=0.15, booster=gblinear \n",
      "[CV]  n_estimators=500, min_child_weight=7, max_depth=15, learning_rate=0.15, booster=gblinear, score=(train=-0.327, test=-0.309), total=   0.6s\n",
      "[CV] n_estimators=500, min_child_weight=7, max_depth=15, learning_rate=0.15, booster=gblinear \n",
      "[CV]  n_estimators=500, min_child_weight=7, max_depth=15, learning_rate=0.15, booster=gblinear, score=(train=-0.329, test=-0.330), total=   0.6s\n",
      "[CV] n_estimators=500, min_child_weight=3, max_depth=8, learning_rate=0.15, booster=gbtree \n",
      "[CV]  n_estimators=500, min_child_weight=3, max_depth=8, learning_rate=0.15, booster=gbtree, score=(train=-0.001, test=-0.099), total=   1.6s\n",
      "[CV] n_estimators=500, min_child_weight=3, max_depth=8, learning_rate=0.15, booster=gbtree \n",
      "[CV]  n_estimators=500, min_child_weight=3, max_depth=8, learning_rate=0.15, booster=gbtree, score=(train=-0.002, test=-0.107), total=   1.6s\n",
      "[CV] n_estimators=500, min_child_weight=3, max_depth=8, learning_rate=0.15, booster=gbtree \n",
      "[CV]  n_estimators=500, min_child_weight=3, max_depth=8, learning_rate=0.15, booster=gbtree, score=(train=-0.002, test=-0.106), total=   1.8s\n",
      "[CV] n_estimators=500, min_child_weight=3, max_depth=8, learning_rate=0.15, booster=gbtree \n",
      "[CV]  n_estimators=500, min_child_weight=3, max_depth=8, learning_rate=0.15, booster=gbtree, score=(train=-0.002, test=-0.098), total=   1.7s\n",
      "[CV] n_estimators=500, min_child_weight=3, max_depth=8, learning_rate=0.15, booster=gbtree \n",
      "[CV]  n_estimators=500, min_child_weight=3, max_depth=8, learning_rate=0.15, booster=gbtree, score=(train=-0.002, test=-0.104), total=   1.6s\n",
      "[CV] n_estimators=500, min_child_weight=3, max_depth=8, learning_rate=0.15, booster=gbtree \n",
      "[CV]  n_estimators=500, min_child_weight=3, max_depth=8, learning_rate=0.15, booster=gbtree, score=(train=-0.002, test=-0.102), total=   1.8s\n",
      "[CV] n_estimators=100, min_child_weight=9, max_depth=4, learning_rate=0.25, booster=gblinear \n",
      "[CV]  n_estimators=100, min_child_weight=9, max_depth=4, learning_rate=0.25, booster=gblinear, score=(train=-0.423, test=-0.450), total=   0.1s\n",
      "[CV] n_estimators=100, min_child_weight=9, max_depth=4, learning_rate=0.25, booster=gblinear \n",
      "[CV]  n_estimators=100, min_child_weight=9, max_depth=4, learning_rate=0.25, booster=gblinear, score=(train=-0.422, test=-0.459), total=   0.1s\n",
      "[CV] n_estimators=100, min_child_weight=9, max_depth=4, learning_rate=0.25, booster=gblinear \n",
      "[CV]  n_estimators=100, min_child_weight=9, max_depth=4, learning_rate=0.25, booster=gblinear, score=(train=-0.418, test=-0.490), total=   0.1s\n",
      "[CV] n_estimators=100, min_child_weight=9, max_depth=4, learning_rate=0.25, booster=gblinear \n"
     ]
    },
    {
     "name": "stdout",
     "output_type": "stream",
     "text": [
      "[CV]  n_estimators=100, min_child_weight=9, max_depth=4, learning_rate=0.25, booster=gblinear, score=(train=-0.428, test=-0.395), total=   0.1s\n",
      "[CV] n_estimators=100, min_child_weight=9, max_depth=4, learning_rate=0.25, booster=gblinear \n",
      "[CV]  n_estimators=100, min_child_weight=9, max_depth=4, learning_rate=0.25, booster=gblinear, score=(train=-0.431, test=-0.400), total=   0.1s\n",
      "[CV] n_estimators=100, min_child_weight=9, max_depth=4, learning_rate=0.25, booster=gblinear \n",
      "[CV]  n_estimators=100, min_child_weight=9, max_depth=4, learning_rate=0.25, booster=gblinear, score=(train=-0.429, test=-0.422), total=   0.1s\n",
      "[CV] n_estimators=300, min_child_weight=7, max_depth=8, learning_rate=0.15, booster=gblinear \n",
      "[CV]  n_estimators=300, min_child_weight=7, max_depth=8, learning_rate=0.15, booster=gblinear, score=(train=-0.402, test=-0.424), total=   0.4s\n",
      "[CV] n_estimators=300, min_child_weight=7, max_depth=8, learning_rate=0.15, booster=gblinear \n",
      "[CV]  n_estimators=300, min_child_weight=7, max_depth=8, learning_rate=0.15, booster=gblinear, score=(train=-0.401, test=-0.436), total=   0.4s\n",
      "[CV] n_estimators=300, min_child_weight=7, max_depth=8, learning_rate=0.15, booster=gblinear \n",
      "[CV]  n_estimators=300, min_child_weight=7, max_depth=8, learning_rate=0.15, booster=gblinear, score=(train=-0.399, test=-0.473), total=   0.4s\n",
      "[CV] n_estimators=300, min_child_weight=7, max_depth=8, learning_rate=0.15, booster=gblinear \n",
      "[CV]  n_estimators=300, min_child_weight=7, max_depth=8, learning_rate=0.15, booster=gblinear, score=(train=-0.405, test=-0.365), total=   0.4s\n",
      "[CV] n_estimators=300, min_child_weight=7, max_depth=8, learning_rate=0.15, booster=gblinear \n",
      "[CV]  n_estimators=300, min_child_weight=7, max_depth=8, learning_rate=0.15, booster=gblinear, score=(train=-0.405, test=-0.383), total=   0.3s\n",
      "[CV] n_estimators=300, min_child_weight=7, max_depth=8, learning_rate=0.15, booster=gblinear \n",
      "[CV]  n_estimators=300, min_child_weight=7, max_depth=8, learning_rate=0.15, booster=gblinear, score=(train=-0.403, test=-0.400), total=   0.4s\n",
      "[CV] n_estimators=1300, min_child_weight=1, max_depth=8, learning_rate=0.1, booster=gbtree \n",
      "[CV]  n_estimators=1300, min_child_weight=1, max_depth=8, learning_rate=0.1, booster=gbtree, score=(train=-0.002, test=-0.097), total=   2.7s\n",
      "[CV] n_estimators=1300, min_child_weight=1, max_depth=8, learning_rate=0.1, booster=gbtree \n",
      "[CV]  n_estimators=1300, min_child_weight=1, max_depth=8, learning_rate=0.1, booster=gbtree, score=(train=-0.002, test=-0.108), total=   2.9s\n",
      "[CV] n_estimators=1300, min_child_weight=1, max_depth=8, learning_rate=0.1, booster=gbtree \n",
      "[CV]  n_estimators=1300, min_child_weight=1, max_depth=8, learning_rate=0.1, booster=gbtree, score=(train=-0.002, test=-0.107), total=   2.8s\n",
      "[CV] n_estimators=1300, min_child_weight=1, max_depth=8, learning_rate=0.1, booster=gbtree \n",
      "[CV]  n_estimators=1300, min_child_weight=1, max_depth=8, learning_rate=0.1, booster=gbtree, score=(train=-0.002, test=-0.099), total=   2.8s\n",
      "[CV] n_estimators=1300, min_child_weight=1, max_depth=8, learning_rate=0.1, booster=gbtree \n",
      "[CV]  n_estimators=1300, min_child_weight=1, max_depth=8, learning_rate=0.1, booster=gbtree, score=(train=-0.001, test=-0.095), total=   2.8s\n",
      "[CV] n_estimators=1300, min_child_weight=1, max_depth=8, learning_rate=0.1, booster=gbtree \n",
      "[CV]  n_estimators=1300, min_child_weight=1, max_depth=8, learning_rate=0.1, booster=gbtree, score=(train=-0.002, test=-0.109), total=   2.8s\n",
      "[CV] n_estimators=200, min_child_weight=5, max_depth=8, learning_rate=0.15, booster=gblinear \n",
      "[CV]  n_estimators=200, min_child_weight=5, max_depth=8, learning_rate=0.15, booster=gblinear, score=(train=-0.446, test=-0.472), total=   0.3s\n",
      "[CV] n_estimators=200, min_child_weight=5, max_depth=8, learning_rate=0.15, booster=gblinear \n",
      "[CV]  n_estimators=200, min_child_weight=5, max_depth=8, learning_rate=0.15, booster=gblinear, score=(train=-0.435, test=-0.474), total=   0.3s\n",
      "[CV] n_estimators=200, min_child_weight=5, max_depth=8, learning_rate=0.15, booster=gblinear \n",
      "[CV]  n_estimators=200, min_child_weight=5, max_depth=8, learning_rate=0.15, booster=gblinear, score=(train=-0.435, test=-0.517), total=   0.3s\n",
      "[CV] n_estimators=200, min_child_weight=5, max_depth=8, learning_rate=0.15, booster=gblinear \n",
      "[CV]  n_estimators=200, min_child_weight=5, max_depth=8, learning_rate=0.15, booster=gblinear, score=(train=-0.450, test=-0.407), total=   0.2s\n",
      "[CV] n_estimators=200, min_child_weight=5, max_depth=8, learning_rate=0.15, booster=gblinear \n",
      "[CV]  n_estimators=200, min_child_weight=5, max_depth=8, learning_rate=0.15, booster=gblinear, score=(train=-0.450, test=-0.424), total=   0.2s\n",
      "[CV] n_estimators=200, min_child_weight=5, max_depth=8, learning_rate=0.15, booster=gblinear \n",
      "[CV]  n_estimators=200, min_child_weight=5, max_depth=8, learning_rate=0.15, booster=gblinear, score=(train=-0.450, test=-0.446), total=   0.2s\n",
      "[CV] n_estimators=1100, min_child_weight=1, max_depth=5, learning_rate=0.15, booster=gbtree \n",
      "[CV]  n_estimators=1100, min_child_weight=1, max_depth=5, learning_rate=0.15, booster=gbtree, score=(train=-0.002, test=-0.103), total=   2.7s\n",
      "[CV] n_estimators=1100, min_child_weight=1, max_depth=5, learning_rate=0.15, booster=gbtree \n",
      "[CV]  n_estimators=1100, min_child_weight=1, max_depth=5, learning_rate=0.15, booster=gbtree, score=(train=-0.002, test=-0.114), total=   2.7s\n",
      "[CV] n_estimators=1100, min_child_weight=1, max_depth=5, learning_rate=0.15, booster=gbtree \n",
      "[CV]  n_estimators=1100, min_child_weight=1, max_depth=5, learning_rate=0.15, booster=gbtree, score=(train=-0.002, test=-0.106), total=   2.8s\n",
      "[CV] n_estimators=1100, min_child_weight=1, max_depth=5, learning_rate=0.15, booster=gbtree \n",
      "[CV]  n_estimators=1100, min_child_weight=1, max_depth=5, learning_rate=0.15, booster=gbtree, score=(train=-0.002, test=-0.100), total=   2.7s\n",
      "[CV] n_estimators=1100, min_child_weight=1, max_depth=5, learning_rate=0.15, booster=gbtree \n",
      "[CV]  n_estimators=1100, min_child_weight=1, max_depth=5, learning_rate=0.15, booster=gbtree, score=(train=-0.002, test=-0.101), total=   2.8s\n",
      "[CV] n_estimators=1100, min_child_weight=1, max_depth=5, learning_rate=0.15, booster=gbtree \n",
      "[CV]  n_estimators=1100, min_child_weight=1, max_depth=5, learning_rate=0.15, booster=gbtree, score=(train=-0.002, test=-0.107), total=   2.7s\n",
      "[CV] n_estimators=1100, min_child_weight=3, max_depth=3, learning_rate=0.15, booster=gbtree \n",
      "[CV]  n_estimators=1100, min_child_weight=3, max_depth=3, learning_rate=0.15, booster=gbtree, score=(train=-0.019, test=-0.105), total=   2.2s\n",
      "[CV] n_estimators=1100, min_child_weight=3, max_depth=3, learning_rate=0.15, booster=gbtree \n",
      "[CV]  n_estimators=1100, min_child_weight=3, max_depth=3, learning_rate=0.15, booster=gbtree, score=(train=-0.020, test=-0.112), total=   2.2s\n",
      "[CV] n_estimators=1100, min_child_weight=3, max_depth=3, learning_rate=0.15, booster=gbtree \n",
      "[CV]  n_estimators=1100, min_child_weight=3, max_depth=3, learning_rate=0.15, booster=gbtree, score=(train=-0.020, test=-0.113), total=   2.2s\n",
      "[CV] n_estimators=1100, min_child_weight=3, max_depth=3, learning_rate=0.15, booster=gbtree \n",
      "[CV]  n_estimators=1100, min_child_weight=3, max_depth=3, learning_rate=0.15, booster=gbtree, score=(train=-0.022, test=-0.103), total=   2.2s\n",
      "[CV] n_estimators=1100, min_child_weight=3, max_depth=3, learning_rate=0.15, booster=gbtree \n",
      "[CV]  n_estimators=1100, min_child_weight=3, max_depth=3, learning_rate=0.15, booster=gbtree, score=(train=-0.021, test=-0.106), total=   2.2s\n",
      "[CV] n_estimators=1100, min_child_weight=3, max_depth=3, learning_rate=0.15, booster=gbtree \n",
      "[CV]  n_estimators=1100, min_child_weight=3, max_depth=3, learning_rate=0.15, booster=gbtree, score=(train=-0.021, test=-0.107), total=   2.2s\n",
      "[CV] n_estimators=300, min_child_weight=9, max_depth=3, learning_rate=0.3, booster=gbtree \n",
      "[CV]  n_estimators=300, min_child_weight=9, max_depth=3, learning_rate=0.3, booster=gbtree, score=(train=-0.039, test=-0.101), total=   0.6s\n",
      "[CV] n_estimators=300, min_child_weight=9, max_depth=3, learning_rate=0.3, booster=gbtree \n",
      "[CV]  n_estimators=300, min_child_weight=9, max_depth=3, learning_rate=0.3, booster=gbtree, score=(train=-0.040, test=-0.107), total=   0.6s\n",
      "[CV] n_estimators=300, min_child_weight=9, max_depth=3, learning_rate=0.3, booster=gbtree \n"
     ]
    },
    {
     "name": "stdout",
     "output_type": "stream",
     "text": [
      "[CV]  n_estimators=300, min_child_weight=9, max_depth=3, learning_rate=0.3, booster=gbtree, score=(train=-0.039, test=-0.105), total=   0.6s\n",
      "[CV] n_estimators=300, min_child_weight=9, max_depth=3, learning_rate=0.3, booster=gbtree \n",
      "[CV]  n_estimators=300, min_child_weight=9, max_depth=3, learning_rate=0.3, booster=gbtree, score=(train=-0.043, test=-0.103), total=   0.6s\n",
      "[CV] n_estimators=300, min_child_weight=9, max_depth=3, learning_rate=0.3, booster=gbtree \n",
      "[CV]  n_estimators=300, min_child_weight=9, max_depth=3, learning_rate=0.3, booster=gbtree, score=(train=-0.040, test=-0.108), total=   0.6s\n",
      "[CV] n_estimators=300, min_child_weight=9, max_depth=3, learning_rate=0.3, booster=gbtree \n",
      "[CV]  n_estimators=300, min_child_weight=9, max_depth=3, learning_rate=0.3, booster=gbtree, score=(train=-0.041, test=-0.104), total=   0.6s\n",
      "[CV] n_estimators=1300, min_child_weight=5, max_depth=4, learning_rate=0.05, booster=gblinear \n",
      "[CV]  n_estimators=1300, min_child_weight=5, max_depth=4, learning_rate=0.05, booster=gblinear, score=(train=-0.382, test=-0.402), total=   1.5s\n",
      "[CV] n_estimators=1300, min_child_weight=5, max_depth=4, learning_rate=0.05, booster=gblinear \n",
      "[CV]  n_estimators=1300, min_child_weight=5, max_depth=4, learning_rate=0.05, booster=gblinear, score=(train=-0.380, test=-0.414), total=   1.6s\n",
      "[CV] n_estimators=1300, min_child_weight=5, max_depth=4, learning_rate=0.05, booster=gblinear \n",
      "[CV]  n_estimators=1300, min_child_weight=5, max_depth=4, learning_rate=0.05, booster=gblinear, score=(train=-0.380, test=-0.452), total=   1.5s\n",
      "[CV] n_estimators=1300, min_child_weight=5, max_depth=4, learning_rate=0.05, booster=gblinear \n",
      "[CV]  n_estimators=1300, min_child_weight=5, max_depth=4, learning_rate=0.05, booster=gblinear, score=(train=-0.382, test=-0.343), total=   1.5s\n",
      "[CV] n_estimators=1300, min_child_weight=5, max_depth=4, learning_rate=0.05, booster=gblinear \n",
      "[CV]  n_estimators=1300, min_child_weight=5, max_depth=4, learning_rate=0.05, booster=gblinear, score=(train=-0.383, test=-0.365), total=   1.5s\n",
      "[CV] n_estimators=1300, min_child_weight=5, max_depth=4, learning_rate=0.05, booster=gblinear \n",
      "[CV]  n_estimators=1300, min_child_weight=5, max_depth=4, learning_rate=0.05, booster=gblinear, score=(train=-0.380, test=-0.379), total=   1.5s\n",
      "[CV] n_estimators=300, min_child_weight=9, max_depth=5, learning_rate=0.35, booster=gblinear \n",
      "[CV]  n_estimators=300, min_child_weight=9, max_depth=5, learning_rate=0.35, booster=gblinear, score=(train=-0.228, test=-0.238), total=   0.4s\n",
      "[CV] n_estimators=300, min_child_weight=9, max_depth=5, learning_rate=0.35, booster=gblinear \n",
      "[CV]  n_estimators=300, min_child_weight=9, max_depth=5, learning_rate=0.35, booster=gblinear, score=(train=-0.225, test=-0.249), total=   0.4s\n",
      "[CV] n_estimators=300, min_child_weight=9, max_depth=5, learning_rate=0.35, booster=gblinear \n",
      "[CV]  n_estimators=300, min_child_weight=9, max_depth=5, learning_rate=0.35, booster=gblinear, score=(train=-0.229, test=-0.270), total=   0.4s\n",
      "[CV] n_estimators=300, min_child_weight=9, max_depth=5, learning_rate=0.35, booster=gblinear \n",
      "[CV]  n_estimators=300, min_child_weight=9, max_depth=5, learning_rate=0.35, booster=gblinear, score=(train=-0.223, test=-0.200), total=   0.4s\n",
      "[CV] n_estimators=300, min_child_weight=9, max_depth=5, learning_rate=0.35, booster=gblinear \n",
      "[CV]  n_estimators=300, min_child_weight=9, max_depth=5, learning_rate=0.35, booster=gblinear, score=(train=-0.226, test=-0.209), total=   0.4s\n",
      "[CV] n_estimators=300, min_child_weight=9, max_depth=5, learning_rate=0.35, booster=gblinear \n",
      "[CV]  n_estimators=300, min_child_weight=9, max_depth=5, learning_rate=0.35, booster=gblinear, score=(train=-0.222, test=-0.229), total=   0.3s\n",
      "[CV] n_estimators=200, min_child_weight=1, max_depth=4, learning_rate=0.25, booster=gblinear \n",
      "[CV]  n_estimators=200, min_child_weight=1, max_depth=4, learning_rate=0.25, booster=gblinear, score=(train=-0.357, test=-0.378), total=   0.3s\n",
      "[CV] n_estimators=200, min_child_weight=1, max_depth=4, learning_rate=0.25, booster=gblinear \n",
      "[CV]  n_estimators=200, min_child_weight=1, max_depth=4, learning_rate=0.25, booster=gblinear, score=(train=-0.356, test=-0.388), total=   0.2s\n",
      "[CV] n_estimators=200, min_child_weight=1, max_depth=4, learning_rate=0.25, booster=gblinear \n",
      "[CV]  n_estimators=200, min_child_weight=1, max_depth=4, learning_rate=0.25, booster=gblinear, score=(train=-0.355, test=-0.420), total=   0.2s\n",
      "[CV] n_estimators=200, min_child_weight=1, max_depth=4, learning_rate=0.25, booster=gblinear \n",
      "[CV]  n_estimators=200, min_child_weight=1, max_depth=4, learning_rate=0.25, booster=gblinear, score=(train=-0.358, test=-0.325), total=   0.2s\n",
      "[CV] n_estimators=200, min_child_weight=1, max_depth=4, learning_rate=0.25, booster=gblinear \n",
      "[CV]  n_estimators=200, min_child_weight=1, max_depth=4, learning_rate=0.25, booster=gblinear, score=(train=-0.359, test=-0.336), total=   0.2s\n",
      "[CV] n_estimators=200, min_child_weight=1, max_depth=4, learning_rate=0.25, booster=gblinear \n",
      "[CV]  n_estimators=200, min_child_weight=1, max_depth=4, learning_rate=0.25, booster=gblinear, score=(train=-0.357, test=-0.355), total=   0.2s\n",
      "[CV] n_estimators=1100, min_child_weight=1, max_depth=11, learning_rate=0.05, booster=gblinear \n",
      "[CV]  n_estimators=1100, min_child_weight=1, max_depth=11, learning_rate=0.05, booster=gblinear, score=(train=-0.406, test=-0.427), total=   1.3s\n",
      "[CV] n_estimators=1100, min_child_weight=1, max_depth=11, learning_rate=0.05, booster=gblinear \n",
      "[CV]  n_estimators=1100, min_child_weight=1, max_depth=11, learning_rate=0.05, booster=gblinear, score=(train=-0.405, test=-0.440), total=   1.3s\n",
      "[CV] n_estimators=1100, min_child_weight=1, max_depth=11, learning_rate=0.05, booster=gblinear \n",
      "[CV]  n_estimators=1100, min_child_weight=1, max_depth=11, learning_rate=0.05, booster=gblinear, score=(train=-0.403, test=-0.479), total=   1.3s\n",
      "[CV] n_estimators=1100, min_child_weight=1, max_depth=11, learning_rate=0.05, booster=gblinear \n",
      "[CV]  n_estimators=1100, min_child_weight=1, max_depth=11, learning_rate=0.05, booster=gblinear, score=(train=-0.408, test=-0.366), total=   1.3s\n",
      "[CV] n_estimators=1100, min_child_weight=1, max_depth=11, learning_rate=0.05, booster=gblinear \n",
      "[CV]  n_estimators=1100, min_child_weight=1, max_depth=11, learning_rate=0.05, booster=gblinear, score=(train=-0.408, test=-0.389), total=   1.3s\n",
      "[CV] n_estimators=1100, min_child_weight=1, max_depth=11, learning_rate=0.05, booster=gblinear \n",
      "[CV]  n_estimators=1100, min_child_weight=1, max_depth=11, learning_rate=0.05, booster=gblinear, score=(train=-0.406, test=-0.405), total=   1.3s\n",
      "[CV] n_estimators=100, min_child_weight=5, max_depth=5, learning_rate=0.1, booster=gblinear \n",
      "[CV]  n_estimators=100, min_child_weight=5, max_depth=5, learning_rate=0.1, booster=gblinear, score=(train=-0.554, test=-0.578), total=   0.1s\n",
      "[CV] n_estimators=100, min_child_weight=5, max_depth=5, learning_rate=0.1, booster=gblinear \n",
      "[CV]  n_estimators=100, min_child_weight=5, max_depth=5, learning_rate=0.1, booster=gblinear, score=(train=-0.550, test=-0.594), total=   0.1s\n",
      "[CV] n_estimators=100, min_child_weight=5, max_depth=5, learning_rate=0.1, booster=gblinear \n",
      "[CV]  n_estimators=100, min_child_weight=5, max_depth=5, learning_rate=0.1, booster=gblinear, score=(train=-0.541, test=-0.638), total=   0.1s\n",
      "[CV] n_estimators=100, min_child_weight=5, max_depth=5, learning_rate=0.1, booster=gblinear \n",
      "[CV]  n_estimators=100, min_child_weight=5, max_depth=5, learning_rate=0.1, booster=gblinear, score=(train=-0.564, test=-0.499), total=   0.1s\n",
      "[CV] n_estimators=100, min_child_weight=5, max_depth=5, learning_rate=0.1, booster=gblinear \n",
      "[CV]  n_estimators=100, min_child_weight=5, max_depth=5, learning_rate=0.1, booster=gblinear, score=(train=-0.565, test=-0.532), total=   0.1s\n",
      "[CV] n_estimators=100, min_child_weight=5, max_depth=5, learning_rate=0.1, booster=gblinear \n",
      "[CV]  n_estimators=100, min_child_weight=5, max_depth=5, learning_rate=0.1, booster=gblinear, score=(train=-0.560, test=-0.561), total=   0.1s\n",
      "[CV] n_estimators=200, min_child_weight=5, max_depth=11, learning_rate=0.2, booster=gbtree \n",
      "[CV]  n_estimators=200, min_child_weight=5, max_depth=11, learning_rate=0.2, booster=gbtree, score=(train=-0.001, test=-0.104), total=   1.2s\n",
      "[CV] n_estimators=200, min_child_weight=5, max_depth=11, learning_rate=0.2, booster=gbtree \n"
     ]
    },
    {
     "name": "stdout",
     "output_type": "stream",
     "text": [
      "[CV]  n_estimators=200, min_child_weight=5, max_depth=11, learning_rate=0.2, booster=gbtree, score=(train=-0.002, test=-0.104), total=   1.2s\n",
      "[CV] n_estimators=200, min_child_weight=5, max_depth=11, learning_rate=0.2, booster=gbtree \n",
      "[CV]  n_estimators=200, min_child_weight=5, max_depth=11, learning_rate=0.2, booster=gbtree, score=(train=-0.003, test=-0.111), total=   1.1s\n",
      "[CV] n_estimators=200, min_child_weight=5, max_depth=11, learning_rate=0.2, booster=gbtree \n",
      "[CV]  n_estimators=200, min_child_weight=5, max_depth=11, learning_rate=0.2, booster=gbtree, score=(train=-0.002, test=-0.103), total=   1.2s\n",
      "[CV] n_estimators=200, min_child_weight=5, max_depth=11, learning_rate=0.2, booster=gbtree \n",
      "[CV]  n_estimators=200, min_child_weight=5, max_depth=11, learning_rate=0.2, booster=gbtree, score=(train=-0.002, test=-0.104), total=   1.2s\n",
      "[CV] n_estimators=200, min_child_weight=5, max_depth=11, learning_rate=0.2, booster=gbtree \n",
      "[CV]  n_estimators=200, min_child_weight=5, max_depth=11, learning_rate=0.2, booster=gbtree, score=(train=-0.004, test=-0.106), total=   1.1s\n",
      "[CV] n_estimators=100, min_child_weight=3, max_depth=5, learning_rate=0.3, booster=gbtree \n",
      "[CV]  n_estimators=100, min_child_weight=3, max_depth=5, learning_rate=0.3, booster=gbtree, score=(train=-0.024, test=-0.102), total=   0.3s\n",
      "[CV] n_estimators=100, min_child_weight=3, max_depth=5, learning_rate=0.3, booster=gbtree \n",
      "[CV]  n_estimators=100, min_child_weight=3, max_depth=5, learning_rate=0.3, booster=gbtree, score=(train=-0.025, test=-0.106), total=   0.3s\n",
      "[CV] n_estimators=100, min_child_weight=3, max_depth=5, learning_rate=0.3, booster=gbtree \n",
      "[CV]  n_estimators=100, min_child_weight=3, max_depth=5, learning_rate=0.3, booster=gbtree, score=(train=-0.026, test=-0.106), total=   0.3s\n",
      "[CV] n_estimators=100, min_child_weight=3, max_depth=5, learning_rate=0.3, booster=gbtree \n",
      "[CV]  n_estimators=100, min_child_weight=3, max_depth=5, learning_rate=0.3, booster=gbtree, score=(train=-0.026, test=-0.101), total=   0.3s\n",
      "[CV] n_estimators=100, min_child_weight=3, max_depth=5, learning_rate=0.3, booster=gbtree \n",
      "[CV]  n_estimators=100, min_child_weight=3, max_depth=5, learning_rate=0.3, booster=gbtree, score=(train=-0.024, test=-0.104), total=   0.3s\n",
      "[CV] n_estimators=100, min_child_weight=3, max_depth=5, learning_rate=0.3, booster=gbtree \n",
      "[CV]  n_estimators=100, min_child_weight=3, max_depth=5, learning_rate=0.3, booster=gbtree, score=(train=-0.027, test=-0.107), total=   0.3s\n",
      "[CV] n_estimators=200, min_child_weight=7, max_depth=11, learning_rate=0.1, booster=gblinear \n",
      "[CV]  n_estimators=200, min_child_weight=7, max_depth=11, learning_rate=0.1, booster=gblinear, score=(train=-0.500, test=-0.528), total=   0.3s\n",
      "[CV] n_estimators=200, min_child_weight=7, max_depth=11, learning_rate=0.1, booster=gblinear \n",
      "[CV]  n_estimators=200, min_child_weight=7, max_depth=11, learning_rate=0.1, booster=gblinear, score=(train=-0.497, test=-0.539), total=   0.2s\n",
      "[CV] n_estimators=200, min_child_weight=7, max_depth=11, learning_rate=0.1, booster=gblinear \n",
      "[CV]  n_estimators=200, min_child_weight=7, max_depth=11, learning_rate=0.1, booster=gblinear, score=(train=-0.491, test=-0.580), total=   0.2s\n",
      "[CV] n_estimators=200, min_child_weight=7, max_depth=11, learning_rate=0.1, booster=gblinear \n",
      "[CV]  n_estimators=200, min_child_weight=7, max_depth=11, learning_rate=0.1, booster=gblinear, score=(train=-0.503, test=-0.444), total=   0.2s\n",
      "[CV] n_estimators=200, min_child_weight=7, max_depth=11, learning_rate=0.1, booster=gblinear \n",
      "[CV]  n_estimators=200, min_child_weight=7, max_depth=11, learning_rate=0.1, booster=gblinear, score=(train=-0.507, test=-0.478), total=   0.2s\n",
      "[CV] n_estimators=200, min_child_weight=7, max_depth=11, learning_rate=0.1, booster=gblinear \n",
      "[CV]  n_estimators=200, min_child_weight=7, max_depth=11, learning_rate=0.1, booster=gblinear, score=(train=-0.505, test=-0.503), total=   0.2s\n",
      "[CV] n_estimators=500, min_child_weight=7, max_depth=11, learning_rate=0.15, booster=gblinear \n",
      "[CV]  n_estimators=500, min_child_weight=7, max_depth=11, learning_rate=0.15, booster=gblinear, score=(train=-0.332, test=-0.349), total=   0.6s\n",
      "[CV] n_estimators=500, min_child_weight=7, max_depth=11, learning_rate=0.15, booster=gblinear \n",
      "[CV]  n_estimators=500, min_child_weight=7, max_depth=11, learning_rate=0.15, booster=gblinear, score=(train=-0.330, test=-0.360), total=   0.6s\n",
      "[CV] n_estimators=500, min_child_weight=7, max_depth=11, learning_rate=0.15, booster=gblinear \n",
      "[CV]  n_estimators=500, min_child_weight=7, max_depth=11, learning_rate=0.15, booster=gblinear, score=(train=-0.331, test=-0.394), total=   0.6s\n",
      "[CV] n_estimators=500, min_child_weight=7, max_depth=11, learning_rate=0.15, booster=gblinear \n",
      "[CV]  n_estimators=500, min_child_weight=7, max_depth=11, learning_rate=0.15, booster=gblinear, score=(train=-0.330, test=-0.297), total=   0.6s\n",
      "[CV] n_estimators=500, min_child_weight=7, max_depth=11, learning_rate=0.15, booster=gblinear \n",
      "[CV]  n_estimators=500, min_child_weight=7, max_depth=11, learning_rate=0.15, booster=gblinear, score=(train=-0.332, test=-0.314), total=   0.6s\n",
      "[CV] n_estimators=500, min_child_weight=7, max_depth=11, learning_rate=0.15, booster=gblinear \n",
      "[CV]  n_estimators=500, min_child_weight=7, max_depth=11, learning_rate=0.15, booster=gblinear, score=(train=-0.326, test=-0.328), total=   0.6s\n",
      "[CV] n_estimators=500, min_child_weight=3, max_depth=15, learning_rate=0.3, booster=gbtree \n",
      "[CV]  n_estimators=500, min_child_weight=3, max_depth=15, learning_rate=0.3, booster=gbtree, score=(train=-0.001, test=-0.107), total=   1.0s\n",
      "[CV] n_estimators=500, min_child_weight=3, max_depth=15, learning_rate=0.3, booster=gbtree \n",
      "[CV]  n_estimators=500, min_child_weight=3, max_depth=15, learning_rate=0.3, booster=gbtree, score=(train=-0.001, test=-0.109), total=   1.0s\n",
      "[CV] n_estimators=500, min_child_weight=3, max_depth=15, learning_rate=0.3, booster=gbtree \n",
      "[CV]  n_estimators=500, min_child_weight=3, max_depth=15, learning_rate=0.3, booster=gbtree, score=(train=-0.001, test=-0.114), total=   1.2s\n",
      "[CV] n_estimators=500, min_child_weight=3, max_depth=15, learning_rate=0.3, booster=gbtree \n",
      "[CV]  n_estimators=500, min_child_weight=3, max_depth=15, learning_rate=0.3, booster=gbtree, score=(train=-0.001, test=-0.112), total=   1.0s\n",
      "[CV] n_estimators=500, min_child_weight=3, max_depth=15, learning_rate=0.3, booster=gbtree \n",
      "[CV]  n_estimators=500, min_child_weight=3, max_depth=15, learning_rate=0.3, booster=gbtree, score=(train=-0.001, test=-0.109), total=   1.1s\n",
      "[CV] n_estimators=500, min_child_weight=3, max_depth=15, learning_rate=0.3, booster=gbtree \n",
      "[CV]  n_estimators=500, min_child_weight=3, max_depth=15, learning_rate=0.3, booster=gbtree, score=(train=-0.001, test=-0.107), total=   1.2s\n",
      "[CV] n_estimators=100, min_child_weight=3, max_depth=5, learning_rate=0.2, booster=gblinear \n",
      "[CV]  n_estimators=100, min_child_weight=3, max_depth=5, learning_rate=0.2, booster=gblinear, score=(train=-0.462, test=-0.490), total=   0.1s\n",
      "[CV] n_estimators=100, min_child_weight=3, max_depth=5, learning_rate=0.2, booster=gblinear \n",
      "[CV]  n_estimators=100, min_child_weight=3, max_depth=5, learning_rate=0.2, booster=gblinear, score=(train=-0.460, test=-0.498), total=   0.1s\n",
      "[CV] n_estimators=100, min_child_weight=3, max_depth=5, learning_rate=0.2, booster=gblinear \n",
      "[CV]  n_estimators=100, min_child_weight=3, max_depth=5, learning_rate=0.2, booster=gblinear, score=(train=-0.454, test=-0.534), total=   0.1s\n",
      "[CV] n_estimators=100, min_child_weight=3, max_depth=5, learning_rate=0.2, booster=gblinear \n",
      "[CV]  n_estimators=100, min_child_weight=3, max_depth=5, learning_rate=0.2, booster=gblinear, score=(train=-0.466, test=-0.428), total=   0.1s\n",
      "[CV] n_estimators=100, min_child_weight=3, max_depth=5, learning_rate=0.2, booster=gblinear \n",
      "[CV]  n_estimators=100, min_child_weight=3, max_depth=5, learning_rate=0.2, booster=gblinear, score=(train=-0.469, test=-0.437), total=   0.1s\n",
      "[CV] n_estimators=100, min_child_weight=3, max_depth=5, learning_rate=0.2, booster=gblinear \n",
      "[CV]  n_estimators=100, min_child_weight=3, max_depth=5, learning_rate=0.2, booster=gblinear, score=(train=-0.466, test=-0.460), total=   0.1s\n",
      "[CV] n_estimators=900, min_child_weight=3, max_depth=4, learning_rate=0.1, booster=gbtree \n"
     ]
    },
    {
     "name": "stdout",
     "output_type": "stream",
     "text": [
      "[CV]  n_estimators=900, min_child_weight=3, max_depth=4, learning_rate=0.1, booster=gbtree, score=(train=-0.014, test=-0.103), total=   2.3s\n",
      "[CV] n_estimators=900, min_child_weight=3, max_depth=4, learning_rate=0.1, booster=gbtree \n",
      "[CV]  n_estimators=900, min_child_weight=3, max_depth=4, learning_rate=0.1, booster=gbtree, score=(train=-0.014, test=-0.107), total=   2.3s\n",
      "[CV] n_estimators=900, min_child_weight=3, max_depth=4, learning_rate=0.1, booster=gbtree \n",
      "[CV]  n_estimators=900, min_child_weight=3, max_depth=4, learning_rate=0.1, booster=gbtree, score=(train=-0.014, test=-0.106), total=   2.3s\n",
      "[CV] n_estimators=900, min_child_weight=3, max_depth=4, learning_rate=0.1, booster=gbtree \n",
      "[CV]  n_estimators=900, min_child_weight=3, max_depth=4, learning_rate=0.1, booster=gbtree, score=(train=-0.017, test=-0.099), total=   2.3s\n",
      "[CV] n_estimators=900, min_child_weight=3, max_depth=4, learning_rate=0.1, booster=gbtree \n",
      "[CV]  n_estimators=900, min_child_weight=3, max_depth=4, learning_rate=0.1, booster=gbtree, score=(train=-0.015, test=-0.099), total=   2.4s\n",
      "[CV] n_estimators=900, min_child_weight=3, max_depth=4, learning_rate=0.1, booster=gbtree \n",
      "[CV]  n_estimators=900, min_child_weight=3, max_depth=4, learning_rate=0.1, booster=gbtree, score=(train=-0.016, test=-0.107), total=   2.3s\n",
      "[CV] n_estimators=900, min_child_weight=3, max_depth=11, learning_rate=0.2, booster=gbtree \n",
      "[CV]  n_estimators=900, min_child_weight=3, max_depth=11, learning_rate=0.2, booster=gbtree, score=(train=-0.001, test=-0.098), total=   1.7s\n",
      "[CV] n_estimators=900, min_child_weight=3, max_depth=11, learning_rate=0.2, booster=gbtree \n",
      "[CV]  n_estimators=900, min_child_weight=3, max_depth=11, learning_rate=0.2, booster=gbtree, score=(train=-0.001, test=-0.112), total=   1.7s\n",
      "[CV] n_estimators=900, min_child_weight=3, max_depth=11, learning_rate=0.2, booster=gbtree \n",
      "[CV]  n_estimators=900, min_child_weight=3, max_depth=11, learning_rate=0.2, booster=gbtree, score=(train=-0.001, test=-0.109), total=   1.8s\n",
      "[CV] n_estimators=900, min_child_weight=3, max_depth=11, learning_rate=0.2, booster=gbtree \n",
      "[CV]  n_estimators=900, min_child_weight=3, max_depth=11, learning_rate=0.2, booster=gbtree, score=(train=-0.001, test=-0.107), total=   1.6s\n",
      "[CV] n_estimators=900, min_child_weight=3, max_depth=11, learning_rate=0.2, booster=gbtree \n",
      "[CV]  n_estimators=900, min_child_weight=3, max_depth=11, learning_rate=0.2, booster=gbtree, score=(train=-0.001, test=-0.102), total=   1.8s\n",
      "[CV] n_estimators=900, min_child_weight=3, max_depth=11, learning_rate=0.2, booster=gbtree \n",
      "[CV]  n_estimators=900, min_child_weight=3, max_depth=11, learning_rate=0.2, booster=gbtree, score=(train=-0.001, test=-0.106), total=   1.9s\n",
      "[CV] n_estimators=300, min_child_weight=3, max_depth=5, learning_rate=0.3, booster=gblinear \n",
      "[CV]  n_estimators=300, min_child_weight=3, max_depth=5, learning_rate=0.3, booster=gblinear, score=(train=-0.262, test=-0.276), total=   0.4s\n",
      "[CV] n_estimators=300, min_child_weight=3, max_depth=5, learning_rate=0.3, booster=gblinear \n",
      "[CV]  n_estimators=300, min_child_weight=3, max_depth=5, learning_rate=0.3, booster=gblinear, score=(train=-0.261, test=-0.287), total=   0.4s\n",
      "[CV] n_estimators=300, min_child_weight=3, max_depth=5, learning_rate=0.3, booster=gblinear \n",
      "[CV]  n_estimators=300, min_child_weight=3, max_depth=5, learning_rate=0.3, booster=gblinear, score=(train=-0.264, test=-0.312), total=   0.4s\n",
      "[CV] n_estimators=300, min_child_weight=3, max_depth=5, learning_rate=0.3, booster=gblinear \n",
      "[CV]  n_estimators=300, min_child_weight=3, max_depth=5, learning_rate=0.3, booster=gblinear, score=(train=-0.260, test=-0.233), total=   0.4s\n",
      "[CV] n_estimators=300, min_child_weight=3, max_depth=5, learning_rate=0.3, booster=gblinear \n",
      "[CV]  n_estimators=300, min_child_weight=3, max_depth=5, learning_rate=0.3, booster=gblinear, score=(train=-0.262, test=-0.244), total=   0.4s\n",
      "[CV] n_estimators=300, min_child_weight=3, max_depth=5, learning_rate=0.3, booster=gblinear \n",
      "[CV]  n_estimators=300, min_child_weight=3, max_depth=5, learning_rate=0.3, booster=gblinear, score=(train=-0.258, test=-0.262), total=   0.4s\n",
      "[CV] n_estimators=300, min_child_weight=5, max_depth=5, learning_rate=0.1, booster=gbtree \n",
      "[CV]  n_estimators=300, min_child_weight=5, max_depth=5, learning_rate=0.1, booster=gbtree, score=(train=-0.027, test=-0.096), total=   0.9s\n",
      "[CV] n_estimators=300, min_child_weight=5, max_depth=5, learning_rate=0.1, booster=gbtree \n",
      "[CV]  n_estimators=300, min_child_weight=5, max_depth=5, learning_rate=0.1, booster=gbtree, score=(train=-0.028, test=-0.102), total=   0.9s\n",
      "[CV] n_estimators=300, min_child_weight=5, max_depth=5, learning_rate=0.1, booster=gbtree \n",
      "[CV]  n_estimators=300, min_child_weight=5, max_depth=5, learning_rate=0.1, booster=gbtree, score=(train=-0.028, test=-0.104), total=   0.9s\n",
      "[CV] n_estimators=300, min_child_weight=5, max_depth=5, learning_rate=0.1, booster=gbtree \n",
      "[CV]  n_estimators=300, min_child_weight=5, max_depth=5, learning_rate=0.1, booster=gbtree, score=(train=-0.030, test=-0.099), total=   0.9s\n",
      "[CV] n_estimators=300, min_child_weight=5, max_depth=5, learning_rate=0.1, booster=gbtree \n",
      "[CV]  n_estimators=300, min_child_weight=5, max_depth=5, learning_rate=0.1, booster=gbtree, score=(train=-0.030, test=-0.100), total=   0.9s\n",
      "[CV] n_estimators=300, min_child_weight=5, max_depth=5, learning_rate=0.1, booster=gbtree \n",
      "[CV]  n_estimators=300, min_child_weight=5, max_depth=5, learning_rate=0.1, booster=gbtree, score=(train=-0.031, test=-0.105), total=   0.9s\n",
      "[CV] n_estimators=300, min_child_weight=7, max_depth=15, learning_rate=0.2, booster=gblinear \n",
      "[CV]  n_estimators=300, min_child_weight=7, max_depth=15, learning_rate=0.2, booster=gblinear, score=(train=-0.350, test=-0.369), total=   0.4s\n",
      "[CV] n_estimators=300, min_child_weight=7, max_depth=15, learning_rate=0.2, booster=gblinear \n",
      "[CV]  n_estimators=300, min_child_weight=7, max_depth=15, learning_rate=0.2, booster=gblinear, score=(train=-0.348, test=-0.380), total=   0.4s\n",
      "[CV] n_estimators=300, min_child_weight=7, max_depth=15, learning_rate=0.2, booster=gblinear \n",
      "[CV]  n_estimators=300, min_child_weight=7, max_depth=15, learning_rate=0.2, booster=gblinear, score=(train=-0.348, test=-0.413), total=   0.4s\n",
      "[CV] n_estimators=300, min_child_weight=7, max_depth=15, learning_rate=0.2, booster=gblinear \n",
      "[CV]  n_estimators=300, min_child_weight=7, max_depth=15, learning_rate=0.2, booster=gblinear, score=(train=-0.344, test=-0.311), total=   0.4s\n",
      "[CV] n_estimators=300, min_child_weight=7, max_depth=15, learning_rate=0.2, booster=gblinear \n",
      "[CV]  n_estimators=300, min_child_weight=7, max_depth=15, learning_rate=0.2, booster=gblinear, score=(train=-0.351, test=-0.331), total=   0.3s\n",
      "[CV] n_estimators=300, min_child_weight=7, max_depth=15, learning_rate=0.2, booster=gblinear \n",
      "[CV]  n_estimators=300, min_child_weight=7, max_depth=15, learning_rate=0.2, booster=gblinear, score=(train=-0.349, test=-0.349), total=   0.4s\n",
      "[CV] n_estimators=300, min_child_weight=3, max_depth=15, learning_rate=0.1, booster=gblinear \n",
      "[CV]  n_estimators=300, min_child_weight=3, max_depth=15, learning_rate=0.1, booster=gblinear, score=(train=-0.461, test=-0.486), total=   0.3s\n",
      "[CV] n_estimators=300, min_child_weight=3, max_depth=15, learning_rate=0.1, booster=gblinear \n",
      "[CV]  n_estimators=300, min_child_weight=3, max_depth=15, learning_rate=0.1, booster=gblinear, score=(train=-0.461, test=-0.500), total=   0.4s\n",
      "[CV] n_estimators=300, min_child_weight=3, max_depth=15, learning_rate=0.1, booster=gblinear \n",
      "[CV]  n_estimators=300, min_child_weight=3, max_depth=15, learning_rate=0.1, booster=gblinear, score=(train=-0.456, test=-0.540), total=   0.4s\n",
      "[CV] n_estimators=300, min_child_weight=3, max_depth=15, learning_rate=0.1, booster=gblinear \n",
      "[CV]  n_estimators=300, min_child_weight=3, max_depth=15, learning_rate=0.1, booster=gblinear, score=(train=-0.468, test=-0.420), total=   0.4s\n",
      "[CV] n_estimators=300, min_child_weight=3, max_depth=15, learning_rate=0.1, booster=gblinear \n",
      "[CV]  n_estimators=300, min_child_weight=3, max_depth=15, learning_rate=0.1, booster=gblinear, score=(train=-0.468, test=-0.443), total=   0.4s\n",
      "[CV] n_estimators=300, min_child_weight=3, max_depth=15, learning_rate=0.1, booster=gblinear \n"
     ]
    },
    {
     "name": "stdout",
     "output_type": "stream",
     "text": [
      "[CV]  n_estimators=300, min_child_weight=3, max_depth=15, learning_rate=0.1, booster=gblinear, score=(train=-0.466, test=-0.464), total=   0.4s\n",
      "[CV] n_estimators=300, min_child_weight=3, max_depth=5, learning_rate=0.2, booster=gblinear \n",
      "[CV]  n_estimators=300, min_child_weight=3, max_depth=5, learning_rate=0.2, booster=gblinear, score=(train=-0.350, test=-0.369), total=   0.4s\n",
      "[CV] n_estimators=300, min_child_weight=3, max_depth=5, learning_rate=0.2, booster=gblinear \n",
      "[CV]  n_estimators=300, min_child_weight=3, max_depth=5, learning_rate=0.2, booster=gblinear, score=(train=-0.348, test=-0.380), total=   0.4s\n",
      "[CV] n_estimators=300, min_child_weight=3, max_depth=5, learning_rate=0.2, booster=gblinear \n",
      "[CV]  n_estimators=300, min_child_weight=3, max_depth=5, learning_rate=0.2, booster=gblinear, score=(train=-0.347, test=-0.412), total=   0.4s\n",
      "[CV] n_estimators=300, min_child_weight=3, max_depth=5, learning_rate=0.2, booster=gblinear \n",
      "[CV]  n_estimators=300, min_child_weight=3, max_depth=5, learning_rate=0.2, booster=gblinear, score=(train=-0.350, test=-0.315), total=   0.4s\n",
      "[CV] n_estimators=300, min_child_weight=3, max_depth=5, learning_rate=0.2, booster=gblinear \n",
      "[CV]  n_estimators=300, min_child_weight=3, max_depth=5, learning_rate=0.2, booster=gblinear, score=(train=-0.351, test=-0.331), total=   0.4s\n",
      "[CV] n_estimators=300, min_child_weight=3, max_depth=5, learning_rate=0.2, booster=gblinear \n",
      "[CV]  n_estimators=300, min_child_weight=3, max_depth=5, learning_rate=0.2, booster=gblinear, score=(train=-0.349, test=-0.348), total=   0.4s\n",
      "[CV] n_estimators=100, min_child_weight=7, max_depth=8, learning_rate=0.35, booster=gblinear \n",
      "[CV]  n_estimators=100, min_child_weight=7, max_depth=8, learning_rate=0.35, booster=gblinear, score=(train=-0.360, test=-0.383), total=   0.1s\n",
      "[CV] n_estimators=100, min_child_weight=7, max_depth=8, learning_rate=0.35, booster=gblinear \n",
      "[CV]  n_estimators=100, min_child_weight=7, max_depth=8, learning_rate=0.35, booster=gblinear, score=(train=-0.357, test=-0.389), total=   0.1s\n",
      "[CV] n_estimators=100, min_child_weight=7, max_depth=8, learning_rate=0.35, booster=gblinear \n",
      "[CV]  n_estimators=100, min_child_weight=7, max_depth=8, learning_rate=0.35, booster=gblinear, score=(train=-0.356, test=-0.417), total=   0.1s\n",
      "[CV] n_estimators=100, min_child_weight=7, max_depth=8, learning_rate=0.35, booster=gblinear \n",
      "[CV]  n_estimators=100, min_child_weight=7, max_depth=8, learning_rate=0.35, booster=gblinear, score=(train=-0.361, test=-0.335), total=   0.1s\n",
      "[CV] n_estimators=100, min_child_weight=7, max_depth=8, learning_rate=0.35, booster=gblinear \n",
      "[CV]  n_estimators=100, min_child_weight=7, max_depth=8, learning_rate=0.35, booster=gblinear, score=(train=-0.363, test=-0.335), total=   0.1s\n",
      "[CV] n_estimators=100, min_child_weight=7, max_depth=8, learning_rate=0.35, booster=gblinear \n",
      "[CV]  n_estimators=100, min_child_weight=7, max_depth=8, learning_rate=0.35, booster=gblinear, score=(train=-0.360, test=-0.354), total=   0.1s\n",
      "[CV] n_estimators=300, min_child_weight=5, max_depth=8, learning_rate=0.1, booster=gbtree \n",
      "[CV]  n_estimators=300, min_child_weight=5, max_depth=8, learning_rate=0.1, booster=gbtree, score=(train=-0.008, test=-0.100), total=   1.3s\n",
      "[CV] n_estimators=300, min_child_weight=5, max_depth=8, learning_rate=0.1, booster=gbtree \n",
      "[CV]  n_estimators=300, min_child_weight=5, max_depth=8, learning_rate=0.1, booster=gbtree, score=(train=-0.010, test=-0.105), total=   1.3s\n",
      "[CV] n_estimators=300, min_child_weight=5, max_depth=8, learning_rate=0.1, booster=gbtree \n",
      "[CV]  n_estimators=300, min_child_weight=5, max_depth=8, learning_rate=0.1, booster=gbtree, score=(train=-0.011, test=-0.105), total=   1.3s\n",
      "[CV] n_estimators=300, min_child_weight=5, max_depth=8, learning_rate=0.1, booster=gbtree \n",
      "[CV]  n_estimators=300, min_child_weight=5, max_depth=8, learning_rate=0.1, booster=gbtree, score=(train=-0.009, test=-0.104), total=   1.3s\n",
      "[CV] n_estimators=300, min_child_weight=5, max_depth=8, learning_rate=0.1, booster=gbtree \n",
      "[CV]  n_estimators=300, min_child_weight=5, max_depth=8, learning_rate=0.1, booster=gbtree, score=(train=-0.009, test=-0.102), total=   1.3s\n",
      "[CV] n_estimators=300, min_child_weight=5, max_depth=8, learning_rate=0.1, booster=gbtree \n",
      "[CV]  n_estimators=300, min_child_weight=5, max_depth=8, learning_rate=0.1, booster=gbtree, score=(train=-0.015, test=-0.105), total=   1.3s\n",
      "[CV] n_estimators=500, min_child_weight=9, max_depth=5, learning_rate=0.3, booster=gbtree \n",
      "[CV]  n_estimators=500, min_child_weight=9, max_depth=5, learning_rate=0.3, booster=gbtree, score=(train=-0.005, test=-0.109), total=   1.5s\n",
      "[CV] n_estimators=500, min_child_weight=9, max_depth=5, learning_rate=0.3, booster=gbtree \n",
      "[CV]  n_estimators=500, min_child_weight=9, max_depth=5, learning_rate=0.3, booster=gbtree, score=(train=-0.005, test=-0.109), total=   1.5s\n",
      "[CV] n_estimators=500, min_child_weight=9, max_depth=5, learning_rate=0.3, booster=gbtree \n",
      "[CV]  n_estimators=500, min_child_weight=9, max_depth=5, learning_rate=0.3, booster=gbtree, score=(train=-0.005, test=-0.108), total=   1.5s\n",
      "[CV] n_estimators=500, min_child_weight=9, max_depth=5, learning_rate=0.3, booster=gbtree \n",
      "[CV]  n_estimators=500, min_child_weight=9, max_depth=5, learning_rate=0.3, booster=gbtree, score=(train=-0.005, test=-0.106), total=   1.5s\n",
      "[CV] n_estimators=500, min_child_weight=9, max_depth=5, learning_rate=0.3, booster=gbtree \n",
      "[CV]  n_estimators=500, min_child_weight=9, max_depth=5, learning_rate=0.3, booster=gbtree, score=(train=-0.005, test=-0.109), total=   1.5s\n",
      "[CV] n_estimators=500, min_child_weight=9, max_depth=5, learning_rate=0.3, booster=gbtree \n",
      "[CV]  n_estimators=500, min_child_weight=9, max_depth=5, learning_rate=0.3, booster=gbtree, score=(train=-0.005, test=-0.112), total=   1.5s\n",
      "[CV] n_estimators=500, min_child_weight=7, max_depth=4, learning_rate=0.15, booster=gblinear \n",
      "[CV]  n_estimators=500, min_child_weight=7, max_depth=4, learning_rate=0.15, booster=gblinear, score=(train=-0.332, test=-0.349), total=   0.6s\n",
      "[CV] n_estimators=500, min_child_weight=7, max_depth=4, learning_rate=0.15, booster=gblinear \n",
      "[CV]  n_estimators=500, min_child_weight=7, max_depth=4, learning_rate=0.15, booster=gblinear, score=(train=-0.330, test=-0.360), total=   0.6s\n",
      "[CV] n_estimators=500, min_child_weight=7, max_depth=4, learning_rate=0.15, booster=gblinear \n",
      "[CV]  n_estimators=500, min_child_weight=7, max_depth=4, learning_rate=0.15, booster=gblinear, score=(train=-0.331, test=-0.394), total=   0.6s\n",
      "[CV] n_estimators=500, min_child_weight=7, max_depth=4, learning_rate=0.15, booster=gblinear \n",
      "[CV]  n_estimators=500, min_child_weight=7, max_depth=4, learning_rate=0.15, booster=gblinear, score=(train=-0.330, test=-0.297), total=   0.6s\n",
      "[CV] n_estimators=500, min_child_weight=7, max_depth=4, learning_rate=0.15, booster=gblinear \n",
      "[CV]  n_estimators=500, min_child_weight=7, max_depth=4, learning_rate=0.15, booster=gblinear, score=(train=-0.332, test=-0.314), total=   0.6s\n",
      "[CV] n_estimators=500, min_child_weight=7, max_depth=4, learning_rate=0.15, booster=gblinear \n",
      "[CV]  n_estimators=500, min_child_weight=7, max_depth=4, learning_rate=0.15, booster=gblinear, score=(train=-0.329, test=-0.330), total=   0.6s\n",
      "[CV] n_estimators=1100, min_child_weight=7, max_depth=11, learning_rate=0.3, booster=gblinear \n",
      "[CV]  n_estimators=1100, min_child_weight=7, max_depth=11, learning_rate=0.3, booster=gblinear, score=(train=-0.109, test=-0.109), total=   1.3s\n",
      "[CV] n_estimators=1100, min_child_weight=7, max_depth=11, learning_rate=0.3, booster=gblinear \n",
      "[CV]  n_estimators=1100, min_child_weight=7, max_depth=11, learning_rate=0.3, booster=gblinear, score=(train=-0.107, test=-0.114), total=   1.3s\n",
      "[CV] n_estimators=1100, min_child_weight=7, max_depth=11, learning_rate=0.3, booster=gblinear \n",
      "[CV]  n_estimators=1100, min_child_weight=7, max_depth=11, learning_rate=0.3, booster=gblinear, score=(train=-0.109, test=-0.119), total=   1.3s\n",
      "[CV] n_estimators=1100, min_child_weight=7, max_depth=11, learning_rate=0.3, booster=gblinear \n",
      "[CV]  n_estimators=1100, min_child_weight=7, max_depth=11, learning_rate=0.3, booster=gblinear, score=(train=-0.107, test=-0.103), total=   1.3s\n",
      "[CV] n_estimators=1100, min_child_weight=7, max_depth=11, learning_rate=0.3, booster=gblinear \n"
     ]
    },
    {
     "name": "stdout",
     "output_type": "stream",
     "text": [
      "[CV]  n_estimators=1100, min_child_weight=7, max_depth=11, learning_rate=0.3, booster=gblinear, score=(train=-0.108, test=-0.107), total=   1.3s\n",
      "[CV] n_estimators=1100, min_child_weight=7, max_depth=11, learning_rate=0.3, booster=gblinear \n",
      "[CV]  n_estimators=1100, min_child_weight=7, max_depth=11, learning_rate=0.3, booster=gblinear, score=(train=-0.105, test=-0.112), total=   1.3s\n",
      "[CV] n_estimators=900, min_child_weight=5, max_depth=8, learning_rate=0.3, booster=gbtree \n",
      "[CV]  n_estimators=900, min_child_weight=5, max_depth=8, learning_rate=0.3, booster=gbtree, score=(train=-0.001, test=-0.104), total=   1.7s\n",
      "[CV] n_estimators=900, min_child_weight=5, max_depth=8, learning_rate=0.3, booster=gbtree \n",
      "[CV]  n_estimators=900, min_child_weight=5, max_depth=8, learning_rate=0.3, booster=gbtree, score=(train=-0.001, test=-0.105), total=   1.8s\n",
      "[CV] n_estimators=900, min_child_weight=5, max_depth=8, learning_rate=0.3, booster=gbtree \n",
      "[CV]  n_estimators=900, min_child_weight=5, max_depth=8, learning_rate=0.3, booster=gbtree, score=(train=-0.002, test=-0.110), total=   1.7s\n",
      "[CV] n_estimators=900, min_child_weight=5, max_depth=8, learning_rate=0.3, booster=gbtree \n",
      "[CV]  n_estimators=900, min_child_weight=5, max_depth=8, learning_rate=0.3, booster=gbtree, score=(train=-0.002, test=-0.109), total=   1.7s\n",
      "[CV] n_estimators=900, min_child_weight=5, max_depth=8, learning_rate=0.3, booster=gbtree \n",
      "[CV]  n_estimators=900, min_child_weight=5, max_depth=8, learning_rate=0.3, booster=gbtree, score=(train=-0.001, test=-0.102), total=   1.8s\n",
      "[CV] n_estimators=900, min_child_weight=5, max_depth=8, learning_rate=0.3, booster=gbtree \n",
      "[CV]  n_estimators=900, min_child_weight=5, max_depth=8, learning_rate=0.3, booster=gbtree, score=(train=-0.001, test=-0.110), total=   1.7s\n",
      "[CV] n_estimators=900, min_child_weight=7, max_depth=8, learning_rate=0.3, booster=gblinear \n",
      "[CV]  n_estimators=900, min_child_weight=7, max_depth=8, learning_rate=0.3, booster=gblinear, score=(train=-0.120, test=-0.122), total=   1.0s\n",
      "[CV] n_estimators=900, min_child_weight=7, max_depth=8, learning_rate=0.3, booster=gblinear \n",
      "[CV]  n_estimators=900, min_child_weight=7, max_depth=8, learning_rate=0.3, booster=gblinear, score=(train=-0.118, test=-0.127), total=   1.0s\n",
      "[CV] n_estimators=900, min_child_weight=7, max_depth=8, learning_rate=0.3, booster=gblinear \n",
      "[CV]  n_estimators=900, min_child_weight=7, max_depth=8, learning_rate=0.3, booster=gblinear, score=(train=-0.121, test=-0.134), total=   1.1s\n",
      "[CV] n_estimators=900, min_child_weight=7, max_depth=8, learning_rate=0.3, booster=gblinear \n",
      "[CV]  n_estimators=900, min_child_weight=7, max_depth=8, learning_rate=0.3, booster=gblinear, score=(train=-0.117, test=-0.110), total=   1.0s\n",
      "[CV] n_estimators=900, min_child_weight=7, max_depth=8, learning_rate=0.3, booster=gblinear \n",
      "[CV]  n_estimators=900, min_child_weight=7, max_depth=8, learning_rate=0.3, booster=gblinear, score=(train=-0.118, test=-0.116), total=   1.1s\n",
      "[CV] n_estimators=900, min_child_weight=7, max_depth=8, learning_rate=0.3, booster=gblinear \n",
      "[CV]  n_estimators=900, min_child_weight=7, max_depth=8, learning_rate=0.3, booster=gblinear, score=(train=-0.116, test=-0.124), total=   1.0s\n",
      "[CV] n_estimators=200, min_child_weight=5, max_depth=15, learning_rate=0.3, booster=gblinear \n",
      "[CV]  n_estimators=200, min_child_weight=5, max_depth=15, learning_rate=0.3, booster=gblinear, score=(train=-0.319, test=-0.338), total=   0.2s\n",
      "[CV] n_estimators=200, min_child_weight=5, max_depth=15, learning_rate=0.3, booster=gblinear \n",
      "[CV]  n_estimators=200, min_child_weight=5, max_depth=15, learning_rate=0.3, booster=gblinear, score=(train=-0.318, test=-0.348), total=   0.2s\n",
      "[CV] n_estimators=200, min_child_weight=5, max_depth=15, learning_rate=0.3, booster=gblinear \n",
      "[CV]  n_estimators=200, min_child_weight=5, max_depth=15, learning_rate=0.3, booster=gblinear, score=(train=-0.318, test=-0.376), total=   0.3s\n",
      "[CV] n_estimators=200, min_child_weight=5, max_depth=15, learning_rate=0.3, booster=gblinear \n",
      "[CV]  n_estimators=200, min_child_weight=5, max_depth=15, learning_rate=0.3, booster=gblinear, score=(train=-0.320, test=-0.289), total=   0.2s\n",
      "[CV] n_estimators=200, min_child_weight=5, max_depth=15, learning_rate=0.3, booster=gblinear \n",
      "[CV]  n_estimators=200, min_child_weight=5, max_depth=15, learning_rate=0.3, booster=gblinear, score=(train=-0.319, test=-0.298), total=   0.3s\n",
      "[CV] n_estimators=200, min_child_weight=5, max_depth=15, learning_rate=0.3, booster=gblinear \n",
      "[CV]  n_estimators=200, min_child_weight=5, max_depth=15, learning_rate=0.3, booster=gblinear, score=(train=-0.318, test=-0.318), total=   0.2s\n",
      "[CV] n_estimators=500, min_child_weight=7, max_depth=8, learning_rate=0.35, booster=gblinear \n",
      "[CV]  n_estimators=500, min_child_weight=7, max_depth=8, learning_rate=0.35, booster=gblinear, score=(train=-0.156, test=-0.162), total=   0.6s\n",
      "[CV] n_estimators=500, min_child_weight=7, max_depth=8, learning_rate=0.35, booster=gblinear \n",
      "[CV]  n_estimators=500, min_child_weight=7, max_depth=8, learning_rate=0.35, booster=gblinear, score=(train=-0.150, test=-0.165), total=   0.6s\n",
      "[CV] n_estimators=500, min_child_weight=7, max_depth=8, learning_rate=0.35, booster=gblinear \n",
      "[CV]  n_estimators=500, min_child_weight=7, max_depth=8, learning_rate=0.35, booster=gblinear, score=(train=-0.158, test=-0.182), total=   0.6s\n",
      "[CV] n_estimators=500, min_child_weight=7, max_depth=8, learning_rate=0.35, booster=gblinear \n",
      "[CV]  n_estimators=500, min_child_weight=7, max_depth=8, learning_rate=0.35, booster=gblinear, score=(train=-0.152, test=-0.138), total=   0.6s\n",
      "[CV] n_estimators=500, min_child_weight=7, max_depth=8, learning_rate=0.35, booster=gblinear \n",
      "[CV]  n_estimators=500, min_child_weight=7, max_depth=8, learning_rate=0.35, booster=gblinear, score=(train=-0.155, test=-0.144), total=   0.6s\n",
      "[CV] n_estimators=500, min_child_weight=7, max_depth=8, learning_rate=0.35, booster=gblinear \n",
      "[CV]  n_estimators=500, min_child_weight=7, max_depth=8, learning_rate=0.35, booster=gblinear, score=(train=-0.151, test=-0.160), total=   0.6s\n",
      "[CV] n_estimators=100, min_child_weight=3, max_depth=8, learning_rate=0.15, booster=gblinear \n",
      "[CV]  n_estimators=100, min_child_weight=3, max_depth=8, learning_rate=0.15, booster=gblinear, score=(train=-0.489, test=-0.525), total=   0.1s\n",
      "[CV] n_estimators=100, min_child_weight=3, max_depth=8, learning_rate=0.15, booster=gblinear \n",
      "[CV]  n_estimators=100, min_child_weight=3, max_depth=8, learning_rate=0.15, booster=gblinear, score=(train=-0.500, test=-0.541), total=   0.1s\n",
      "[CV] n_estimators=100, min_child_weight=3, max_depth=8, learning_rate=0.15, booster=gblinear \n",
      "[CV]  n_estimators=100, min_child_weight=3, max_depth=8, learning_rate=0.15, booster=gblinear, score=(train=-0.494, test=-0.580), total=   0.1s\n",
      "[CV] n_estimators=100, min_child_weight=3, max_depth=8, learning_rate=0.15, booster=gblinear \n",
      "[CV]  n_estimators=100, min_child_weight=3, max_depth=8, learning_rate=0.15, booster=gblinear, score=(train=-0.509, test=-0.462), total=   0.1s\n",
      "[CV] n_estimators=100, min_child_weight=3, max_depth=8, learning_rate=0.15, booster=gblinear \n",
      "[CV]  n_estimators=100, min_child_weight=3, max_depth=8, learning_rate=0.15, booster=gblinear, score=(train=-0.512, test=-0.480), total=   0.1s\n",
      "[CV] n_estimators=100, min_child_weight=3, max_depth=8, learning_rate=0.15, booster=gblinear \n",
      "[CV]  n_estimators=100, min_child_weight=3, max_depth=8, learning_rate=0.15, booster=gblinear, score=(train=-0.509, test=-0.504), total=   0.1s\n",
      "[CV] n_estimators=900, min_child_weight=9, max_depth=5, learning_rate=0.3, booster=gblinear \n",
      "[CV]  n_estimators=900, min_child_weight=9, max_depth=5, learning_rate=0.3, booster=gblinear, score=(train=-0.120, test=-0.122), total=   1.0s\n",
      "[CV] n_estimators=900, min_child_weight=9, max_depth=5, learning_rate=0.3, booster=gblinear \n",
      "[CV]  n_estimators=900, min_child_weight=9, max_depth=5, learning_rate=0.3, booster=gblinear, score=(train=-0.118, test=-0.127), total=   1.1s\n",
      "[CV] n_estimators=900, min_child_weight=9, max_depth=5, learning_rate=0.3, booster=gblinear \n",
      "[CV]  n_estimators=900, min_child_weight=9, max_depth=5, learning_rate=0.3, booster=gblinear, score=(train=-0.121, test=-0.134), total=   1.0s\n",
      "[CV] n_estimators=900, min_child_weight=9, max_depth=5, learning_rate=0.3, booster=gblinear \n"
     ]
    },
    {
     "name": "stdout",
     "output_type": "stream",
     "text": [
      "[CV]  n_estimators=900, min_child_weight=9, max_depth=5, learning_rate=0.3, booster=gblinear, score=(train=-0.117, test=-0.111), total=   1.1s\n",
      "[CV] n_estimators=900, min_child_weight=9, max_depth=5, learning_rate=0.3, booster=gblinear \n",
      "[CV]  n_estimators=900, min_child_weight=9, max_depth=5, learning_rate=0.3, booster=gblinear, score=(train=-0.119, test=-0.116), total=   1.2s\n",
      "[CV] n_estimators=900, min_child_weight=9, max_depth=5, learning_rate=0.3, booster=gblinear \n",
      "[CV]  n_estimators=900, min_child_weight=9, max_depth=5, learning_rate=0.3, booster=gblinear, score=(train=-0.116, test=-0.124), total=   1.1s\n",
      "[CV] n_estimators=100, min_child_weight=9, max_depth=11, learning_rate=0.3, booster=gblinear \n",
      "[CV]  n_estimators=100, min_child_weight=9, max_depth=11, learning_rate=0.3, booster=gblinear, score=(train=-0.390, test=-0.415), total=   0.1s\n",
      "[CV] n_estimators=100, min_child_weight=9, max_depth=11, learning_rate=0.3, booster=gblinear \n",
      "[CV]  n_estimators=100, min_child_weight=9, max_depth=11, learning_rate=0.3, booster=gblinear, score=(train=-0.389, test=-0.423), total=   0.1s\n",
      "[CV] n_estimators=100, min_child_weight=9, max_depth=11, learning_rate=0.3, booster=gblinear \n",
      "[CV]  n_estimators=100, min_child_weight=9, max_depth=11, learning_rate=0.3, booster=gblinear, score=(train=-0.388, test=-0.454), total=   0.1s\n",
      "[CV] n_estimators=100, min_child_weight=9, max_depth=11, learning_rate=0.3, booster=gblinear \n",
      "[CV]  n_estimators=100, min_child_weight=9, max_depth=11, learning_rate=0.3, booster=gblinear, score=(train=-0.386, test=-0.360), total=   0.1s\n",
      "[CV] n_estimators=100, min_child_weight=9, max_depth=11, learning_rate=0.3, booster=gblinear \n",
      "[CV]  n_estimators=100, min_child_weight=9, max_depth=11, learning_rate=0.3, booster=gblinear, score=(train=-0.396, test=-0.366), total=   0.1s\n",
      "[CV] n_estimators=100, min_child_weight=9, max_depth=11, learning_rate=0.3, booster=gblinear \n",
      "[CV]  n_estimators=100, min_child_weight=9, max_depth=11, learning_rate=0.3, booster=gblinear, score=(train=-0.393, test=-0.385), total=   0.1s\n",
      "[CV] n_estimators=1100, min_child_weight=5, max_depth=8, learning_rate=0.05, booster=gbtree \n",
      "[CV]  n_estimators=1100, min_child_weight=5, max_depth=8, learning_rate=0.05, booster=gbtree, score=(train=-0.002, test=-0.100), total=   5.1s\n",
      "[CV] n_estimators=1100, min_child_weight=5, max_depth=8, learning_rate=0.05, booster=gbtree \n",
      "[CV]  n_estimators=1100, min_child_weight=5, max_depth=8, learning_rate=0.05, booster=gbtree, score=(train=-0.003, test=-0.104), total=   4.9s\n",
      "[CV] n_estimators=1100, min_child_weight=5, max_depth=8, learning_rate=0.05, booster=gbtree \n",
      "[CV]  n_estimators=1100, min_child_weight=5, max_depth=8, learning_rate=0.05, booster=gbtree, score=(train=-0.003, test=-0.106), total=   5.0s\n",
      "[CV] n_estimators=1100, min_child_weight=5, max_depth=8, learning_rate=0.05, booster=gbtree \n",
      "[CV]  n_estimators=1100, min_child_weight=5, max_depth=8, learning_rate=0.05, booster=gbtree, score=(train=-0.003, test=-0.103), total=   4.9s\n",
      "[CV] n_estimators=1100, min_child_weight=5, max_depth=8, learning_rate=0.05, booster=gbtree \n",
      "[CV]  n_estimators=1100, min_child_weight=5, max_depth=8, learning_rate=0.05, booster=gbtree, score=(train=-0.002, test=-0.100), total=   5.0s\n",
      "[CV] n_estimators=1100, min_child_weight=5, max_depth=8, learning_rate=0.05, booster=gbtree \n",
      "[CV]  n_estimators=1100, min_child_weight=5, max_depth=8, learning_rate=0.05, booster=gbtree, score=(train=-0.005, test=-0.102), total=   4.8s\n",
      "[CV] n_estimators=300, min_child_weight=7, max_depth=5, learning_rate=0.15, booster=gblinear \n",
      "[CV]  n_estimators=300, min_child_weight=7, max_depth=5, learning_rate=0.15, booster=gblinear, score=(train=-0.402, test=-0.423), total=   0.4s\n",
      "[CV] n_estimators=300, min_child_weight=7, max_depth=5, learning_rate=0.15, booster=gblinear \n",
      "[CV]  n_estimators=300, min_child_weight=7, max_depth=5, learning_rate=0.15, booster=gblinear, score=(train=-0.400, test=-0.435), total=   0.3s\n",
      "[CV] n_estimators=300, min_child_weight=7, max_depth=5, learning_rate=0.15, booster=gblinear \n",
      "[CV]  n_estimators=300, min_child_weight=7, max_depth=5, learning_rate=0.15, booster=gblinear, score=(train=-0.398, test=-0.472), total=   0.4s\n",
      "[CV] n_estimators=300, min_child_weight=7, max_depth=5, learning_rate=0.15, booster=gblinear \n",
      "[CV]  n_estimators=300, min_child_weight=7, max_depth=5, learning_rate=0.15, booster=gblinear, score=(train=-0.405, test=-0.365), total=   0.4s\n",
      "[CV] n_estimators=300, min_child_weight=7, max_depth=5, learning_rate=0.15, booster=gblinear \n",
      "[CV]  n_estimators=300, min_child_weight=7, max_depth=5, learning_rate=0.15, booster=gblinear, score=(train=-0.405, test=-0.383), total=   0.4s\n",
      "[CV] n_estimators=300, min_child_weight=7, max_depth=5, learning_rate=0.15, booster=gblinear \n",
      "[CV]  n_estimators=300, min_child_weight=7, max_depth=5, learning_rate=0.15, booster=gblinear, score=(train=-0.403, test=-0.401), total=   0.4s\n",
      "[CV] n_estimators=500, min_child_weight=9, max_depth=5, learning_rate=0.15, booster=gbtree \n",
      "[CV]  n_estimators=500, min_child_weight=9, max_depth=5, learning_rate=0.15, booster=gbtree, score=(train=-0.016, test=-0.104), total=   1.4s\n",
      "[CV] n_estimators=500, min_child_weight=9, max_depth=5, learning_rate=0.15, booster=gbtree \n",
      "[CV]  n_estimators=500, min_child_weight=9, max_depth=5, learning_rate=0.15, booster=gbtree, score=(train=-0.016, test=-0.107), total=   1.4s\n",
      "[CV] n_estimators=500, min_child_weight=9, max_depth=5, learning_rate=0.15, booster=gbtree \n",
      "[CV]  n_estimators=500, min_child_weight=9, max_depth=5, learning_rate=0.15, booster=gbtree, score=(train=-0.017, test=-0.107), total=   1.5s\n",
      "[CV] n_estimators=500, min_child_weight=9, max_depth=5, learning_rate=0.15, booster=gbtree \n",
      "[CV]  n_estimators=500, min_child_weight=9, max_depth=5, learning_rate=0.15, booster=gbtree, score=(train=-0.017, test=-0.099), total=   1.5s\n",
      "[CV] n_estimators=500, min_child_weight=9, max_depth=5, learning_rate=0.15, booster=gbtree \n",
      "[CV]  n_estimators=500, min_child_weight=9, max_depth=5, learning_rate=0.15, booster=gbtree, score=(train=-0.016, test=-0.105), total=   1.5s\n",
      "[CV] n_estimators=500, min_child_weight=9, max_depth=5, learning_rate=0.15, booster=gbtree \n",
      "[CV]  n_estimators=500, min_child_weight=9, max_depth=5, learning_rate=0.15, booster=gbtree, score=(train=-0.018, test=-0.104), total=   1.5s\n",
      "[CV] n_estimators=100, min_child_weight=7, max_depth=3, learning_rate=0.05, booster=gblinear \n",
      "[CV]  n_estimators=100, min_child_weight=7, max_depth=3, learning_rate=0.05, booster=gblinear, score=(train=-0.638, test=-0.660), total=   0.1s\n",
      "[CV] n_estimators=100, min_child_weight=7, max_depth=3, learning_rate=0.05, booster=gblinear \n",
      "[CV]  n_estimators=100, min_child_weight=7, max_depth=3, learning_rate=0.05, booster=gblinear, score=(train=-0.635, test=-0.675), total=   0.1s\n",
      "[CV] n_estimators=100, min_child_weight=7, max_depth=3, learning_rate=0.05, booster=gblinear \n",
      "[CV]  n_estimators=100, min_child_weight=7, max_depth=3, learning_rate=0.05, booster=gblinear, score=(train=-0.623, test=-0.719), total=   0.1s\n",
      "[CV] n_estimators=100, min_child_weight=7, max_depth=3, learning_rate=0.05, booster=gblinear \n",
      "[CV]  n_estimators=100, min_child_weight=7, max_depth=3, learning_rate=0.05, booster=gblinear, score=(train=-0.653, test=-0.565), total=   0.1s\n",
      "[CV] n_estimators=100, min_child_weight=7, max_depth=3, learning_rate=0.05, booster=gblinear \n",
      "[CV]  n_estimators=100, min_child_weight=7, max_depth=3, learning_rate=0.05, booster=gblinear, score=(train=-0.647, test=-0.627), total=   0.1s\n",
      "[CV] n_estimators=100, min_child_weight=7, max_depth=3, learning_rate=0.05, booster=gblinear \n",
      "[CV]  n_estimators=100, min_child_weight=7, max_depth=3, learning_rate=0.05, booster=gblinear, score=(train=-0.643, test=-0.656), total=   0.1s\n",
      "[CV] n_estimators=200, min_child_weight=7, max_depth=3, learning_rate=0.25, booster=gblinear \n",
      "[CV]  n_estimators=200, min_child_weight=7, max_depth=3, learning_rate=0.25, booster=gblinear, score=(train=-0.357, test=-0.378), total=   0.3s\n",
      "[CV] n_estimators=200, min_child_weight=7, max_depth=3, learning_rate=0.25, booster=gblinear \n",
      "[CV]  n_estimators=200, min_child_weight=7, max_depth=3, learning_rate=0.25, booster=gblinear, score=(train=-0.356, test=-0.389), total=   0.2s\n",
      "[CV] n_estimators=200, min_child_weight=7, max_depth=3, learning_rate=0.25, booster=gblinear \n"
     ]
    },
    {
     "name": "stdout",
     "output_type": "stream",
     "text": [
      "[CV]  n_estimators=200, min_child_weight=7, max_depth=3, learning_rate=0.25, booster=gblinear, score=(train=-0.356, test=-0.421), total=   0.2s\n",
      "[CV] n_estimators=200, min_child_weight=7, max_depth=3, learning_rate=0.25, booster=gblinear \n",
      "[CV]  n_estimators=200, min_child_weight=7, max_depth=3, learning_rate=0.25, booster=gblinear, score=(train=-0.359, test=-0.325), total=   0.3s\n",
      "[CV] n_estimators=200, min_child_weight=7, max_depth=3, learning_rate=0.25, booster=gblinear \n",
      "[CV]  n_estimators=200, min_child_weight=7, max_depth=3, learning_rate=0.25, booster=gblinear, score=(train=-0.360, test=-0.337), total=   0.3s\n",
      "[CV] n_estimators=200, min_child_weight=7, max_depth=3, learning_rate=0.25, booster=gblinear \n",
      "[CV]  n_estimators=200, min_child_weight=7, max_depth=3, learning_rate=0.25, booster=gblinear, score=(train=-0.358, test=-0.356), total=   0.3s\n",
      "[CV] n_estimators=500, min_child_weight=5, max_depth=15, learning_rate=0.1, booster=gbtree \n",
      "[CV]  n_estimators=500, min_child_weight=5, max_depth=15, learning_rate=0.1, booster=gbtree, score=(train=-0.001, test=-0.100), total=   3.2s\n",
      "[CV] n_estimators=500, min_child_weight=5, max_depth=15, learning_rate=0.1, booster=gbtree \n",
      "[CV]  n_estimators=500, min_child_weight=5, max_depth=15, learning_rate=0.1, booster=gbtree, score=(train=-0.001, test=-0.107), total=   3.0s\n",
      "[CV] n_estimators=500, min_child_weight=5, max_depth=15, learning_rate=0.1, booster=gbtree \n",
      "[CV]  n_estimators=500, min_child_weight=5, max_depth=15, learning_rate=0.1, booster=gbtree, score=(train=-0.001, test=-0.103), total=   3.4s\n",
      "[CV] n_estimators=500, min_child_weight=5, max_depth=15, learning_rate=0.1, booster=gbtree \n",
      "[CV]  n_estimators=500, min_child_weight=5, max_depth=15, learning_rate=0.1, booster=gbtree, score=(train=-0.001, test=-0.105), total=   3.3s\n",
      "[CV] n_estimators=500, min_child_weight=5, max_depth=15, learning_rate=0.1, booster=gbtree \n",
      "[CV]  n_estimators=500, min_child_weight=5, max_depth=15, learning_rate=0.1, booster=gbtree, score=(train=-0.001, test=-0.101), total=   3.5s\n",
      "[CV] n_estimators=500, min_child_weight=5, max_depth=15, learning_rate=0.1, booster=gbtree \n",
      "[CV]  n_estimators=500, min_child_weight=5, max_depth=15, learning_rate=0.1, booster=gbtree, score=(train=-0.001, test=-0.110), total=   4.2s\n",
      "[CV] n_estimators=1100, min_child_weight=5, max_depth=15, learning_rate=0.05, booster=gbtree \n",
      "[CV]  n_estimators=1100, min_child_weight=5, max_depth=15, learning_rate=0.05, booster=gbtree, score=(train=-0.001, test=-0.098), total=   7.2s\n",
      "[CV] n_estimators=1100, min_child_weight=5, max_depth=15, learning_rate=0.05, booster=gbtree \n",
      "[CV]  n_estimators=1100, min_child_weight=5, max_depth=15, learning_rate=0.05, booster=gbtree, score=(train=-0.001, test=-0.105), total=   5.7s\n",
      "[CV] n_estimators=1100, min_child_weight=5, max_depth=15, learning_rate=0.05, booster=gbtree \n",
      "[CV]  n_estimators=1100, min_child_weight=5, max_depth=15, learning_rate=0.05, booster=gbtree, score=(train=-0.001, test=-0.106), total=   6.6s\n",
      "[CV] n_estimators=1100, min_child_weight=5, max_depth=15, learning_rate=0.05, booster=gbtree \n",
      "[CV]  n_estimators=1100, min_child_weight=5, max_depth=15, learning_rate=0.05, booster=gbtree, score=(train=-0.001, test=-0.103), total=   6.1s\n",
      "[CV] n_estimators=1100, min_child_weight=5, max_depth=15, learning_rate=0.05, booster=gbtree \n",
      "[CV]  n_estimators=1100, min_child_weight=5, max_depth=15, learning_rate=0.05, booster=gbtree, score=(train=-0.001, test=-0.097), total=   6.3s\n",
      "[CV] n_estimators=1100, min_child_weight=5, max_depth=15, learning_rate=0.05, booster=gbtree \n",
      "[CV]  n_estimators=1100, min_child_weight=5, max_depth=15, learning_rate=0.05, booster=gbtree, score=(train=-0.001, test=-0.102), total=   6.6s\n"
     ]
    },
    {
     "name": "stderr",
     "output_type": "stream",
     "text": [
      "[Parallel(n_jobs=1)]: Done 300 out of 300 | elapsed:  6.0min finished\n"
     ]
    },
    {
     "data": {
      "text/plain": [
       "RandomizedSearchCV(cv=6, error_score=nan,\n",
       "                   estimator=XGBRegressor(base_score=None, booster=None,\n",
       "                                          colsample_bylevel=None,\n",
       "                                          colsample_bynode=None,\n",
       "                                          colsample_bytree=None, gamma=None,\n",
       "                                          gpu_id=None, importance_type='gain',\n",
       "                                          interaction_constraints=None,\n",
       "                                          learning_rate=None,\n",
       "                                          max_delta_step=None, max_depth=None,\n",
       "                                          min_child_weight=None, missing=nan,\n",
       "                                          monotone_constraints=None,\n",
       "                                          n_...\n",
       "                   iid='deprecated', n_iter=50, n_jobs=None,\n",
       "                   param_distributions={'booster': ['gbtree', 'gblinear'],\n",
       "                                        'learning_rate': [0.05, 0.1, 0.15, 0.2,\n",
       "                                                          0.25, 0.3, 0.35],\n",
       "                                        'max_depth': [3, 4, 5, 8, 11, 15],\n",
       "                                        'min_child_weight': [1, 3, 5, 7, 9],\n",
       "                                        'n_estimators': [100, 200, 300, 500,\n",
       "                                                         900, 1100, 1300]},\n",
       "                   pre_dispatch='2*n_jobs', random_state=42, refit=True,\n",
       "                   return_train_score=True, scoring='neg_mean_absolute_error',\n",
       "                   verbose=5)"
      ]
     },
     "execution_count": 52,
     "metadata": {},
     "output_type": "execute_result"
    }
   ],
   "source": [
    "random_search.fit(x_train,y_train)"
   ]
  },
  {
   "cell_type": "code",
   "execution_count": 53,
   "metadata": {},
   "outputs": [
    {
     "data": {
      "text/plain": [
       "XGBRegressor(base_score=0.5, booster='gbtree', colsample_bylevel=1,\n",
       "             colsample_bynode=1, colsample_bytree=1, gamma=0, gpu_id=-1,\n",
       "             importance_type='gain', interaction_constraints=None,\n",
       "             learning_rate=0.1, max_delta_step=0, max_depth=5,\n",
       "             min_child_weight=5, missing=nan, monotone_constraints=None,\n",
       "             n_estimators=300, n_jobs=0, num_parallel_tree=1,\n",
       "             objective='reg:squarederror', random_state=0, reg_alpha=0,\n",
       "             reg_lambda=1, scale_pos_weight=1, subsample=1, tree_method=None,\n",
       "             validate_parameters=False, verbosity=None)"
      ]
     },
     "execution_count": 53,
     "metadata": {},
     "output_type": "execute_result"
    }
   ],
   "source": [
    "random_search.best_estimator_"
   ]
  },
  {
   "cell_type": "code",
   "execution_count": 54,
   "metadata": {},
   "outputs": [],
   "source": [
    "regressor=xgboost.XGBRegressor(base_score=0.5, booster='gbtree', colsample_bylevel=1,\n",
    "             colsample_bynode=1, colsample_bytree=1, gamma=0, gpu_id=-1,\n",
    "             importance_type='gain', interaction_constraints=None,\n",
    "             learning_rate=0.1, max_delta_step=0, max_depth=5,\n",
    "             min_child_weight=5, monotone_constraints=None,\n",
    "             n_estimators=300, n_jobs=0, num_parallel_tree=1,\n",
    "             objective='reg:squarederror', random_state=0, reg_alpha=0,\n",
    "             reg_lambda=1, scale_pos_weight=1, subsample=1, tree_method=None,\n",
    "             validate_parameters=False, verbosity=None)"
   ]
  },
  {
   "cell_type": "code",
   "execution_count": 55,
   "metadata": {},
   "outputs": [
    {
     "data": {
      "text/plain": [
       "XGBRegressor(base_score=0.5, booster='gbtree', colsample_bylevel=1,\n",
       "             colsample_bynode=1, colsample_bytree=1, gamma=0, gpu_id=-1,\n",
       "             importance_type='gain', interaction_constraints=None,\n",
       "             learning_rate=0.1, max_delta_step=0, max_depth=5,\n",
       "             min_child_weight=5, missing=nan, monotone_constraints=None,\n",
       "             n_estimators=300, n_jobs=0, num_parallel_tree=1,\n",
       "             objective='reg:squarederror', random_state=0, reg_alpha=0,\n",
       "             reg_lambda=1, scale_pos_weight=1, subsample=1, tree_method=None,\n",
       "             validate_parameters=False, verbosity=None)"
      ]
     },
     "execution_count": 55,
     "metadata": {},
     "output_type": "execute_result"
    }
   ],
   "source": [
    "regressor.fit(x_train,y_train)"
   ]
  },
  {
   "cell_type": "code",
   "execution_count": 56,
   "metadata": {},
   "outputs": [],
   "source": [
    "y_pred=regressor.predict(x_test)"
   ]
  },
  {
   "cell_type": "code",
   "execution_count": 57,
   "metadata": {},
   "outputs": [
    {
     "data": {
      "text/plain": [
       "array([11.651239, 11.921824, 12.098792, ..., 11.914032, 11.634296,\n",
       "       12.339451], dtype=float32)"
      ]
     },
     "execution_count": 57,
     "metadata": {},
     "output_type": "execute_result"
    }
   ],
   "source": [
    "y_pred"
   ]
  },
  {
   "cell_type": "code",
   "execution_count": 58,
   "metadata": {},
   "outputs": [],
   "source": [
    "pred_y=pd.DataFrame(y_pred)"
   ]
  },
  {
   "cell_type": "code",
   "execution_count": 66,
   "metadata": {},
   "outputs": [],
   "source": [
    "sample= pd.read_csv(\"house-prices-advanced-regression-techniques\\sample_submission.csv\")\n",
    "sample_df = pd.concat([sample['Id'],pred_y],axis=1)\n",
    "sample_df .columns=['Id','SalePrice']"
   ]
  },
  {
   "cell_type": "code",
   "execution_count": 67,
   "metadata": {},
   "outputs": [],
   "source": [
    "sample_df .to_csv('house-prices-advanced-regression-techniques\\submit.csv',index=False)"
   ]
  },
  {
   "cell_type": "code",
   "execution_count": null,
   "metadata": {},
   "outputs": [],
   "source": []
  }
 ],
 "metadata": {
  "kernelspec": {
   "display_name": "Python 3",
   "language": "python",
   "name": "python3"
  },
  "language_info": {
   "codemirror_mode": {
    "name": "ipython",
    "version": 3
   },
   "file_extension": ".py",
   "mimetype": "text/x-python",
   "name": "python",
   "nbconvert_exporter": "python",
   "pygments_lexer": "ipython3",
   "version": "3.7.6"
  }
 },
 "nbformat": 4,
 "nbformat_minor": 4
}
